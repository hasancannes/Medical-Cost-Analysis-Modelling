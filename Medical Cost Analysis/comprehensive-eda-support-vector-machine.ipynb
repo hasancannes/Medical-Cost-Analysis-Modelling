{
 "cells": [
  {
   "cell_type": "markdown",
   "id": "2bf658af",
   "metadata": {
    "papermill": {
     "duration": 0.011277,
     "end_time": "2022-08-19T13:04:24.390478",
     "exception": false,
     "start_time": "2022-08-19T13:04:24.379201",
     "status": "completed"
    },
    "tags": []
   },
   "source": [
    "## Problem"
   ]
  },
  {
   "cell_type": "markdown",
   "id": "9136d7d7",
   "metadata": {
    "papermill": {
     "duration": 0.009548,
     "end_time": "2022-08-19T13:04:24.410602",
     "exception": false,
     "start_time": "2022-08-19T13:04:24.401054",
     "status": "completed"
    },
    "tags": []
   },
   "source": [
    "The aim of the project is the health of a person according to the given variables.\n",
    "Estimating how much the insurance will cost."
   ]
  },
  {
   "cell_type": "markdown",
   "id": "56e88b46",
   "metadata": {
    "papermill": {
     "duration": 0.009576,
     "end_time": "2022-08-19T13:04:24.431287",
     "exception": false,
     "start_time": "2022-08-19T13:04:24.421711",
     "status": "completed"
    },
    "tags": []
   },
   "source": [
    " ![ Health Insurance ](https://images.app.goo.gl/fTXKLnLheCCgqptr9)"
   ]
  },
  {
   "cell_type": "markdown",
   "id": "ca17b603",
   "metadata": {
    "papermill": {
     "duration": 0.009617,
     "end_time": "2022-08-19T13:04:24.450747",
     "exception": false,
     "start_time": "2022-08-19T13:04:24.441130",
     "status": "completed"
    },
    "tags": []
   },
   "source": [
    "## Importing of Libraries"
   ]
  },
  {
   "cell_type": "code",
   "execution_count": 1,
   "id": "5ecb93e6",
   "metadata": {
    "execution": {
     "iopub.execute_input": "2022-08-19T13:04:24.473170Z",
     "iopub.status.busy": "2022-08-19T13:04:24.472676Z",
     "iopub.status.idle": "2022-08-19T13:04:27.449972Z",
     "shell.execute_reply": "2022-08-19T13:04:27.448938Z"
    },
    "papermill": {
     "duration": 2.99208,
     "end_time": "2022-08-19T13:04:27.452825",
     "exception": false,
     "start_time": "2022-08-19T13:04:24.460745",
     "status": "completed"
    },
    "tags": []
   },
   "outputs": [
    {
     "data": {
      "text/html": [
       "<style type='text/css'>\n",
       ".datatable table.frame { margin-bottom: 0; }\n",
       ".datatable table.frame thead { border-bottom: none; }\n",
       ".datatable table.frame tr.coltypes td {  color: #FFFFFF;  line-height: 6px;  padding: 0 0.5em;}\n",
       ".datatable .bool    { background: #DDDD99; }\n",
       ".datatable .object  { background: #565656; }\n",
       ".datatable .int     { background: #5D9E5D; }\n",
       ".datatable .float   { background: #4040CC; }\n",
       ".datatable .str     { background: #CC4040; }\n",
       ".datatable .time    { background: #40CC40; }\n",
       ".datatable .row_index {  background: var(--jp-border-color3);  border-right: 1px solid var(--jp-border-color0);  color: var(--jp-ui-font-color3);  font-size: 9px;}\n",
       ".datatable .frame tbody td { text-align: left; }\n",
       ".datatable .frame tr.coltypes .row_index {  background: var(--jp-border-color0);}\n",
       ".datatable th:nth-child(2) { padding-left: 12px; }\n",
       ".datatable .hellipsis {  color: var(--jp-cell-editor-border-color);}\n",
       ".datatable .vellipsis {  background: var(--jp-layout-color0);  color: var(--jp-cell-editor-border-color);}\n",
       ".datatable .na {  color: var(--jp-cell-editor-border-color);  font-size: 80%;}\n",
       ".datatable .sp {  opacity: 0.25;}\n",
       ".datatable .footer { font-size: 9px; }\n",
       ".datatable .frame_dimensions {  background: var(--jp-border-color3);  border-top: 1px solid var(--jp-border-color0);  color: var(--jp-ui-font-color3);  display: inline-block;  opacity: 0.6;  padding: 1px 10px 1px 5px;}\n",
       "</style>\n"
      ],
      "text/plain": [
       "<IPython.core.display.HTML object>"
      ]
     },
     "metadata": {},
     "output_type": "display_data"
    }
   ],
   "source": [
    "import pandas as pd\n",
    "import seaborn as sns\n",
    "import numpy as np\n",
    "import matplotlib.pyplot as plt\n",
    "from sklearn.linear_model import LinearRegression\n",
    "from sklearn.metrics import mean_squared_error\n",
    "from sklearn.model_selection import train_test_split\n",
    "from sklearn.linear_model import Ridge\n",
    "from sklearn.metrics import r2_score\n",
    "from sklearn import model_selection\n",
    "from sklearn.linear_model import RidgeCV\n",
    "from sklearn.linear_model import LassoCV\n",
    "from sklearn.linear_model import Lasso\n",
    "from sklearn.linear_model import ElasticNet\n",
    "from sklearn.model_selection import GridSearchCV\n",
    "from sklearn.preprocessing import scale\n",
    "from sklearn.preprocessing import StandardScaler\n",
    "from sklearn.tree import DecisionTreeRegressor\n",
    "from sklearn.neighbors import KNeighborsRegressor\n",
    "from sklearn.neural_network import MLPRegressor\n",
    "from sklearn.ensemble import RandomForestRegressor\n",
    "from sklearn.ensemble import GradientBoostingRegressor\n",
    "from lightgbm import LGBMRegressor\n",
    "from sklearn import neighbors\n",
    "from sklearn.svm import SVR\n",
    "from sklearn.preprocessing import LabelEncoder\n",
    "from sklearn import preprocessing\n",
    "from sklearn.model_selection import cross_val_score\n",
    "import random\n",
    "import warnings\n",
    "warnings.filterwarnings('ignore')\n",
    "warnings.simplefilter(action='ignore', category=FutureWarning)"
   ]
  },
  {
   "cell_type": "code",
   "execution_count": 2,
   "id": "7463dd49",
   "metadata": {
    "execution": {
     "iopub.execute_input": "2022-08-19T13:04:27.475715Z",
     "iopub.status.busy": "2022-08-19T13:04:27.475420Z",
     "iopub.status.idle": "2022-08-19T13:04:27.497792Z",
     "shell.execute_reply": "2022-08-19T13:04:27.496930Z"
    },
    "papermill": {
     "duration": 0.03631,
     "end_time": "2022-08-19T13:04:27.499785",
     "exception": false,
     "start_time": "2022-08-19T13:04:27.463475",
     "status": "completed"
    },
    "tags": []
   },
   "outputs": [],
   "source": [
    "df = pd.read_csv(\"../input/insurance/insurance.csv\")\n",
    "df = df.copy()"
   ]
  },
  {
   "cell_type": "markdown",
   "id": "802e02d8",
   "metadata": {
    "papermill": {
     "duration": 0.010324,
     "end_time": "2022-08-19T13:04:27.520285",
     "exception": false,
     "start_time": "2022-08-19T13:04:27.509961",
     "status": "completed"
    },
    "tags": []
   },
   "source": [
    "## First Look to Data"
   ]
  },
  {
   "cell_type": "code",
   "execution_count": 3,
   "id": "aa668365",
   "metadata": {
    "execution": {
     "iopub.execute_input": "2022-08-19T13:04:27.542827Z",
     "iopub.status.busy": "2022-08-19T13:04:27.541198Z",
     "iopub.status.idle": "2022-08-19T13:04:27.631480Z",
     "shell.execute_reply": "2022-08-19T13:04:27.630303Z"
    },
    "papermill": {
     "duration": 0.104438,
     "end_time": "2022-08-19T13:04:27.634840",
     "exception": false,
     "start_time": "2022-08-19T13:04:27.530402",
     "status": "completed"
    },
    "tags": []
   },
   "outputs": [
    {
     "name": "stdout",
     "output_type": "stream",
     "text": [
      "****************************** HEAD ******************************\n"
     ]
    },
    {
     "data": {
      "text/html": [
       "<div>\n",
       "<style scoped>\n",
       "    .dataframe tbody tr th:only-of-type {\n",
       "        vertical-align: middle;\n",
       "    }\n",
       "\n",
       "    .dataframe tbody tr th {\n",
       "        vertical-align: top;\n",
       "    }\n",
       "\n",
       "    .dataframe thead th {\n",
       "        text-align: right;\n",
       "    }\n",
       "</style>\n",
       "<table border=\"1\" class=\"dataframe\">\n",
       "  <thead>\n",
       "    <tr style=\"text-align: right;\">\n",
       "      <th></th>\n",
       "      <th>age</th>\n",
       "      <th>sex</th>\n",
       "      <th>bmi</th>\n",
       "      <th>children</th>\n",
       "      <th>smoker</th>\n",
       "      <th>region</th>\n",
       "      <th>charges</th>\n",
       "    </tr>\n",
       "  </thead>\n",
       "  <tbody>\n",
       "    <tr>\n",
       "      <th>0</th>\n",
       "      <td>19</td>\n",
       "      <td>female</td>\n",
       "      <td>27.900</td>\n",
       "      <td>0</td>\n",
       "      <td>yes</td>\n",
       "      <td>southwest</td>\n",
       "      <td>16884.92400</td>\n",
       "    </tr>\n",
       "    <tr>\n",
       "      <th>1</th>\n",
       "      <td>18</td>\n",
       "      <td>male</td>\n",
       "      <td>33.770</td>\n",
       "      <td>1</td>\n",
       "      <td>no</td>\n",
       "      <td>southeast</td>\n",
       "      <td>1725.55230</td>\n",
       "    </tr>\n",
       "    <tr>\n",
       "      <th>2</th>\n",
       "      <td>28</td>\n",
       "      <td>male</td>\n",
       "      <td>33.000</td>\n",
       "      <td>3</td>\n",
       "      <td>no</td>\n",
       "      <td>southeast</td>\n",
       "      <td>4449.46200</td>\n",
       "    </tr>\n",
       "    <tr>\n",
       "      <th>3</th>\n",
       "      <td>33</td>\n",
       "      <td>male</td>\n",
       "      <td>22.705</td>\n",
       "      <td>0</td>\n",
       "      <td>no</td>\n",
       "      <td>northwest</td>\n",
       "      <td>21984.47061</td>\n",
       "    </tr>\n",
       "    <tr>\n",
       "      <th>4</th>\n",
       "      <td>32</td>\n",
       "      <td>male</td>\n",
       "      <td>28.880</td>\n",
       "      <td>0</td>\n",
       "      <td>no</td>\n",
       "      <td>northwest</td>\n",
       "      <td>3866.85520</td>\n",
       "    </tr>\n",
       "    <tr>\n",
       "      <th>5</th>\n",
       "      <td>31</td>\n",
       "      <td>female</td>\n",
       "      <td>25.740</td>\n",
       "      <td>0</td>\n",
       "      <td>no</td>\n",
       "      <td>southeast</td>\n",
       "      <td>3756.62160</td>\n",
       "    </tr>\n",
       "    <tr>\n",
       "      <th>6</th>\n",
       "      <td>46</td>\n",
       "      <td>female</td>\n",
       "      <td>33.440</td>\n",
       "      <td>1</td>\n",
       "      <td>no</td>\n",
       "      <td>southeast</td>\n",
       "      <td>8240.58960</td>\n",
       "    </tr>\n",
       "    <tr>\n",
       "      <th>7</th>\n",
       "      <td>37</td>\n",
       "      <td>female</td>\n",
       "      <td>27.740</td>\n",
       "      <td>3</td>\n",
       "      <td>no</td>\n",
       "      <td>northwest</td>\n",
       "      <td>7281.50560</td>\n",
       "    </tr>\n",
       "    <tr>\n",
       "      <th>8</th>\n",
       "      <td>37</td>\n",
       "      <td>male</td>\n",
       "      <td>29.830</td>\n",
       "      <td>2</td>\n",
       "      <td>no</td>\n",
       "      <td>northeast</td>\n",
       "      <td>6406.41070</td>\n",
       "    </tr>\n",
       "    <tr>\n",
       "      <th>9</th>\n",
       "      <td>60</td>\n",
       "      <td>female</td>\n",
       "      <td>25.840</td>\n",
       "      <td>0</td>\n",
       "      <td>no</td>\n",
       "      <td>northwest</td>\n",
       "      <td>28923.13692</td>\n",
       "    </tr>\n",
       "  </tbody>\n",
       "</table>\n",
       "</div>"
      ],
      "text/plain": [
       "   age     sex     bmi  children smoker     region      charges\n",
       "0   19  female  27.900         0    yes  southwest  16884.92400\n",
       "1   18    male  33.770         1     no  southeast   1725.55230\n",
       "2   28    male  33.000         3     no  southeast   4449.46200\n",
       "3   33    male  22.705         0     no  northwest  21984.47061\n",
       "4   32    male  28.880         0     no  northwest   3866.85520\n",
       "5   31  female  25.740         0     no  southeast   3756.62160\n",
       "6   46  female  33.440         1     no  southeast   8240.58960\n",
       "7   37  female  27.740         3     no  northwest   7281.50560\n",
       "8   37    male  29.830         2     no  northeast   6406.41070\n",
       "9   60  female  25.840         0     no  northwest  28923.13692"
      ]
     },
     "metadata": {},
     "output_type": "display_data"
    },
    {
     "name": "stdout",
     "output_type": "stream",
     "text": [
      "****************************** DUPLICATED ******************************\n",
      "Rows: 1338\n",
      "Columns: 7\n",
      "****************************** INFO ******************************\n",
      "<class 'pandas.core.frame.DataFrame'>\n",
      "RangeIndex: 1338 entries, 0 to 1337\n",
      "Data columns (total 7 columns):\n",
      " #   Column    Non-Null Count  Dtype  \n",
      "---  ------    --------------  -----  \n",
      " 0   age       1338 non-null   int64  \n",
      " 1   sex       1338 non-null   object \n",
      " 2   bmi       1338 non-null   float64\n",
      " 3   children  1338 non-null   int64  \n",
      " 4   smoker    1338 non-null   object \n",
      " 5   region    1338 non-null   object \n",
      " 6   charges   1338 non-null   float64\n",
      "dtypes: float64(2), int64(2), object(3)\n",
      "memory usage: 73.3+ KB\n"
     ]
    },
    {
     "data": {
      "text/plain": [
       "None"
      ]
     },
     "metadata": {},
     "output_type": "display_data"
    },
    {
     "name": "stdout",
     "output_type": "stream",
     "text": [
      "****************************** DESCRIBE ******************************\n"
     ]
    },
    {
     "data": {
      "text/html": [
       "<div>\n",
       "<style scoped>\n",
       "    .dataframe tbody tr th:only-of-type {\n",
       "        vertical-align: middle;\n",
       "    }\n",
       "\n",
       "    .dataframe tbody tr th {\n",
       "        vertical-align: top;\n",
       "    }\n",
       "\n",
       "    .dataframe thead th {\n",
       "        text-align: right;\n",
       "    }\n",
       "</style>\n",
       "<table border=\"1\" class=\"dataframe\">\n",
       "  <thead>\n",
       "    <tr style=\"text-align: right;\">\n",
       "      <th></th>\n",
       "      <th>count</th>\n",
       "      <th>mean</th>\n",
       "      <th>std</th>\n",
       "      <th>min</th>\n",
       "      <th>25%</th>\n",
       "      <th>50%</th>\n",
       "      <th>75%</th>\n",
       "      <th>max</th>\n",
       "    </tr>\n",
       "  </thead>\n",
       "  <tbody>\n",
       "    <tr>\n",
       "      <th>age</th>\n",
       "      <td>1338.0</td>\n",
       "      <td>39.207025</td>\n",
       "      <td>14.049960</td>\n",
       "      <td>18.0000</td>\n",
       "      <td>27.00000</td>\n",
       "      <td>39.000</td>\n",
       "      <td>51.000000</td>\n",
       "      <td>64.00000</td>\n",
       "    </tr>\n",
       "    <tr>\n",
       "      <th>bmi</th>\n",
       "      <td>1338.0</td>\n",
       "      <td>30.663397</td>\n",
       "      <td>6.098187</td>\n",
       "      <td>15.9600</td>\n",
       "      <td>26.29625</td>\n",
       "      <td>30.400</td>\n",
       "      <td>34.693750</td>\n",
       "      <td>53.13000</td>\n",
       "    </tr>\n",
       "    <tr>\n",
       "      <th>children</th>\n",
       "      <td>1338.0</td>\n",
       "      <td>1.094918</td>\n",
       "      <td>1.205493</td>\n",
       "      <td>0.0000</td>\n",
       "      <td>0.00000</td>\n",
       "      <td>1.000</td>\n",
       "      <td>2.000000</td>\n",
       "      <td>5.00000</td>\n",
       "    </tr>\n",
       "    <tr>\n",
       "      <th>charges</th>\n",
       "      <td>1338.0</td>\n",
       "      <td>13270.422265</td>\n",
       "      <td>12110.011237</td>\n",
       "      <td>1121.8739</td>\n",
       "      <td>4740.28715</td>\n",
       "      <td>9382.033</td>\n",
       "      <td>16639.912515</td>\n",
       "      <td>63770.42801</td>\n",
       "    </tr>\n",
       "  </tbody>\n",
       "</table>\n",
       "</div>"
      ],
      "text/plain": [
       "           count          mean           std        min         25%       50%  \\\n",
       "age       1338.0     39.207025     14.049960    18.0000    27.00000    39.000   \n",
       "bmi       1338.0     30.663397      6.098187    15.9600    26.29625    30.400   \n",
       "children  1338.0      1.094918      1.205493     0.0000     0.00000     1.000   \n",
       "charges   1338.0  13270.422265  12110.011237  1121.8739  4740.28715  9382.033   \n",
       "\n",
       "                   75%          max  \n",
       "age          51.000000     64.00000  \n",
       "bmi          34.693750     53.13000  \n",
       "children      2.000000      5.00000  \n",
       "charges   16639.912515  63770.42801  "
      ]
     },
     "metadata": {},
     "output_type": "display_data"
    },
    {
     "name": "stdout",
     "output_type": "stream",
     "text": [
      "****************************** NULL? ******************************\n"
     ]
    },
    {
     "data": {
      "text/plain": [
       "age         0\n",
       "sex         0\n",
       "bmi         0\n",
       "children    0\n",
       "smoker      0\n",
       "region      0\n",
       "charges     0\n",
       "dtype: int64"
      ]
     },
     "metadata": {},
     "output_type": "display_data"
    },
    {
     "name": "stdout",
     "output_type": "stream",
     "text": [
      "****************************** DUPLICATED ******************************\n"
     ]
    },
    {
     "data": {
      "text/plain": [
       "1"
      ]
     },
     "metadata": {},
     "output_type": "display_data"
    },
    {
     "name": "stdout",
     "output_type": "stream",
     "text": [
      "****************************** EXPLAINING ******************************\n"
     ]
    }
   ],
   "source": [
    "print(\"*\"*30, \"HEAD\", \"*\"*30)\n",
    "display(df.head(10))\n",
    "print(\"*\"*30, \"DUPLICATED\", \"*\"*30)\n",
    "print(f\"Rows: {df.shape[0]}\\nColumns: {df.shape[1]}\")\n",
    "print(\"*\"*30, \"INFO\", \"*\"*30)\n",
    "display(df.info())\n",
    "print(\"*\"*30, \"DESCRIBE\", \"*\"*30)\n",
    "display(df.describe().T)\n",
    "print(\"*\"*30, \"NULL?\", \"*\"*30)\n",
    "display(df.isnull().sum())\n",
    "print(\"*\"*30, \"DUPLICATED\", \"*\"*30)\n",
    "display(df.duplicated().sum())\n",
    "print(\"*\"*30, \"EXPLAINING\", \"*\"*30)\n"
   ]
  },
  {
   "cell_type": "markdown",
   "id": "cab06165",
   "metadata": {
    "papermill": {
     "duration": 0.025238,
     "end_time": "2022-08-19T13:04:27.676960",
     "exception": false,
     "start_time": "2022-08-19T13:04:27.651722",
     "status": "completed"
    },
    "tags": []
   },
   "source": [
    "- According to the first look of data, \n",
    "    - There is no null value on dataset.\n",
    "    - There is only one duplicated value.\n",
    "    - There are 2 float, 2 int and 3 object types columns.\n",
    "    - There are 7 features."
   ]
  },
  {
   "cell_type": "markdown",
   "id": "019b926a",
   "metadata": {
    "papermill": {
     "duration": 0.022154,
     "end_time": "2022-08-19T13:04:27.719022",
     "exception": false,
     "start_time": "2022-08-19T13:04:27.696868",
     "status": "completed"
    },
    "tags": []
   },
   "source": [
    "### Delete the Duplicated Value"
   ]
  },
  {
   "cell_type": "code",
   "execution_count": 4,
   "id": "da86b008",
   "metadata": {
    "execution": {
     "iopub.execute_input": "2022-08-19T13:04:27.760278Z",
     "iopub.status.busy": "2022-08-19T13:04:27.759737Z",
     "iopub.status.idle": "2022-08-19T13:04:27.783674Z",
     "shell.execute_reply": "2022-08-19T13:04:27.782651Z"
    },
    "papermill": {
     "duration": 0.04594,
     "end_time": "2022-08-19T13:04:27.785974",
     "exception": false,
     "start_time": "2022-08-19T13:04:27.740034",
     "status": "completed"
    },
    "tags": []
   },
   "outputs": [
    {
     "data": {
      "text/html": [
       "<div>\n",
       "<style scoped>\n",
       "    .dataframe tbody tr th:only-of-type {\n",
       "        vertical-align: middle;\n",
       "    }\n",
       "\n",
       "    .dataframe tbody tr th {\n",
       "        vertical-align: top;\n",
       "    }\n",
       "\n",
       "    .dataframe thead th {\n",
       "        text-align: right;\n",
       "    }\n",
       "</style>\n",
       "<table border=\"1\" class=\"dataframe\">\n",
       "  <thead>\n",
       "    <tr style=\"text-align: right;\">\n",
       "      <th></th>\n",
       "      <th>age</th>\n",
       "      <th>sex</th>\n",
       "      <th>bmi</th>\n",
       "      <th>children</th>\n",
       "      <th>smoker</th>\n",
       "      <th>region</th>\n",
       "      <th>charges</th>\n",
       "    </tr>\n",
       "  </thead>\n",
       "  <tbody>\n",
       "    <tr>\n",
       "      <th>581</th>\n",
       "      <td>19</td>\n",
       "      <td>male</td>\n",
       "      <td>30.59</td>\n",
       "      <td>0</td>\n",
       "      <td>no</td>\n",
       "      <td>northwest</td>\n",
       "      <td>1639.5631</td>\n",
       "    </tr>\n",
       "  </tbody>\n",
       "</table>\n",
       "</div>"
      ],
      "text/plain": [
       "     age   sex    bmi  children smoker     region    charges\n",
       "581   19  male  30.59         0     no  northwest  1639.5631"
      ]
     },
     "execution_count": 4,
     "metadata": {},
     "output_type": "execute_result"
    }
   ],
   "source": [
    "# First, let's delete the duplicated value\n",
    "df[df.duplicated()]"
   ]
  },
  {
   "cell_type": "code",
   "execution_count": 5,
   "id": "5815931c",
   "metadata": {
    "execution": {
     "iopub.execute_input": "2022-08-19T13:04:27.831308Z",
     "iopub.status.busy": "2022-08-19T13:04:27.830875Z",
     "iopub.status.idle": "2022-08-19T13:04:27.836917Z",
     "shell.execute_reply": "2022-08-19T13:04:27.836076Z"
    },
    "papermill": {
     "duration": 0.030975,
     "end_time": "2022-08-19T13:04:27.838784",
     "exception": false,
     "start_time": "2022-08-19T13:04:27.807809",
     "status": "completed"
    },
    "tags": []
   },
   "outputs": [],
   "source": [
    "df.drop(581, axis=0, inplace=True)"
   ]
  },
  {
   "cell_type": "code",
   "execution_count": 6,
   "id": "5ea61621",
   "metadata": {
    "execution": {
     "iopub.execute_input": "2022-08-19T13:04:27.873872Z",
     "iopub.status.busy": "2022-08-19T13:04:27.873552Z",
     "iopub.status.idle": "2022-08-19T13:04:27.879052Z",
     "shell.execute_reply": "2022-08-19T13:04:27.877893Z"
    },
    "papermill": {
     "duration": 0.02622,
     "end_time": "2022-08-19T13:04:27.881795",
     "exception": false,
     "start_time": "2022-08-19T13:04:27.855575",
     "status": "completed"
    },
    "tags": []
   },
   "outputs": [
    {
     "name": "stdout",
     "output_type": "stream",
     "text": [
      "Rows: 1337\n",
      "Columns: 7\n"
     ]
    }
   ],
   "source": [
    "# Now, we have 1337 rows, and 7 columns.\n",
    "print(f\"Rows: {df.shape[0]}\\nColumns: {df.shape[1]}\")"
   ]
  },
  {
   "cell_type": "markdown",
   "id": "1c3aae2c",
   "metadata": {
    "papermill": {
     "duration": 0.01682,
     "end_time": "2022-08-19T13:04:27.915981",
     "exception": false,
     "start_time": "2022-08-19T13:04:27.899161",
     "status": "completed"
    },
    "tags": []
   },
   "source": [
    "## Visualization of Data"
   ]
  },
  {
   "cell_type": "markdown",
   "id": "f107f850",
   "metadata": {
    "papermill": {
     "duration": 0.016431,
     "end_time": "2022-08-19T13:04:27.949189",
     "exception": false,
     "start_time": "2022-08-19T13:04:27.932758",
     "status": "completed"
    },
    "tags": []
   },
   "source": [
    "### Examining of \"bmi\" Feature"
   ]
  },
  {
   "cell_type": "code",
   "execution_count": 7,
   "id": "e358223d",
   "metadata": {
    "execution": {
     "iopub.execute_input": "2022-08-19T13:04:27.985102Z",
     "iopub.status.busy": "2022-08-19T13:04:27.984570Z",
     "iopub.status.idle": "2022-08-19T13:04:29.252614Z",
     "shell.execute_reply": "2022-08-19T13:04:29.251726Z"
    },
    "papermill": {
     "duration": 1.289666,
     "end_time": "2022-08-19T13:04:29.256328",
     "exception": false,
     "start_time": "2022-08-19T13:04:27.966662",
     "status": "completed"
    },
    "tags": []
   },
   "outputs": [
    {
     "data": {
      "image/png": "[encoded data removed]",
      "text/plain": [
       "<Figure size 504x576 with 6 Axes>"
      ]
     },
     "metadata": {
      "needs_background": "light"
     },
     "output_type": "display_data"
    }
   ],
   "source": [
    "fig, axes = plt.subplots(3,2, figsize=(7, 8))\n",
    "sns.scatterplot(data=df, x = \"charges\", y = \"bmi\", hue = \"sex\", ax = axes[0,0])\n",
    "sns.scatterplot(data=df, x = \"region\", y = \"bmi\", hue = \"sex\",ax = axes[0,1])\n",
    "sns.scatterplot(data=df, x = \"smoker\", y = \"bmi\", hue = \"sex\",ax = axes[1,0])\n",
    "sns.scatterplot(data=df, x = \"age\", y = \"bmi\", hue = \"sex\",ax = axes[1,1])\n",
    "sns.scatterplot(data=df, x = \"sex\", y = \"bmi\", hue = \"sex\",ax = axes[2,0])\n",
    "sns.scatterplot(data=df, x = \"children\", y = \"bmi\", hue = \"sex\",ax = axes[2,1])\n",
    "\n",
    "plt.subplots_adjust(left=None, bottom=None, right=None, top=None, wspace=None, hspace=0.5) # It prevents the overlapping of texts\n",
    "\n",
    "# It seems, there are relationship with the charges and bmi features. Let's into deep."
   ]
  },
  {
   "cell_type": "code",
   "execution_count": 8,
   "id": "0edf498c",
   "metadata": {
    "execution": {
     "iopub.execute_input": "2022-08-19T13:04:29.287113Z",
     "iopub.status.busy": "2022-08-19T13:04:29.286736Z",
     "iopub.status.idle": "2022-08-19T13:04:29.691925Z",
     "shell.execute_reply": "2022-08-19T13:04:29.691040Z"
    },
    "papermill": {
     "duration": 0.422089,
     "end_time": "2022-08-19T13:04:29.694141",
     "exception": false,
     "start_time": "2022-08-19T13:04:29.272052",
     "status": "completed"
    },
    "tags": []
   },
   "outputs": [
    {
     "data": {
      "text/html": [
       "<div>\n",
       "<style scoped>\n",
       "    .dataframe tbody tr th:only-of-type {\n",
       "        vertical-align: middle;\n",
       "    }\n",
       "\n",
       "    .dataframe tbody tr th {\n",
       "        vertical-align: top;\n",
       "    }\n",
       "\n",
       "    .dataframe thead th {\n",
       "        text-align: right;\n",
       "    }\n",
       "</style>\n",
       "<table border=\"1\" class=\"dataframe\">\n",
       "  <thead>\n",
       "    <tr style=\"text-align: right;\">\n",
       "      <th></th>\n",
       "      <th>charges</th>\n",
       "      <th>bmi</th>\n",
       "    </tr>\n",
       "  </thead>\n",
       "  <tbody>\n",
       "    <tr>\n",
       "      <th>charges</th>\n",
       "      <td>1.000000</td>\n",
       "      <td>0.198401</td>\n",
       "    </tr>\n",
       "    <tr>\n",
       "      <th>bmi</th>\n",
       "      <td>0.198401</td>\n",
       "      <td>1.000000</td>\n",
       "    </tr>\n",
       "  </tbody>\n",
       "</table>\n",
       "</div>"
      ],
      "text/plain": [
       "          charges       bmi\n",
       "charges  1.000000  0.198401\n",
       "bmi      0.198401  1.000000"
      ]
     },
     "execution_count": 8,
     "metadata": {},
     "output_type": "execute_result"
    },
    {
     "data": {
      "image/png": "[encoded data removed]",
      "text/plain": [
       "<Figure size 432x288 with 1 Axes>"
      ]
     },
     "metadata": {
      "needs_background": "light"
     },
     "output_type": "display_data"
    }
   ],
   "source": [
    "sns.regplot(data=df, x = \"charges\", y = \"bmi\")\n",
    "df[[\"charges\", \"bmi\"]].corr()\n",
    "\n",
    "#Correlation number is 0.198, this is a \"weak\" correlation."
   ]
  },
  {
   "cell_type": "markdown",
   "id": "7b285dcb",
   "metadata": {
    "papermill": {
     "duration": 0.013479,
     "end_time": "2022-08-19T13:04:29.721557",
     "exception": false,
     "start_time": "2022-08-19T13:04:29.708078",
     "status": "completed"
    },
    "tags": []
   },
   "source": [
    "### Smoker and Charges"
   ]
  },
  {
   "cell_type": "code",
   "execution_count": 9,
   "id": "c3b617e8",
   "metadata": {
    "execution": {
     "iopub.execute_input": "2022-08-19T13:04:29.750958Z",
     "iopub.status.busy": "2022-08-19T13:04:29.750659Z",
     "iopub.status.idle": "2022-08-19T13:04:29.808967Z",
     "shell.execute_reply": "2022-08-19T13:04:29.807697Z"
    },
    "papermill": {
     "duration": 0.076358,
     "end_time": "2022-08-19T13:04:29.811868",
     "exception": false,
     "start_time": "2022-08-19T13:04:29.735510",
     "status": "completed"
    },
    "tags": []
   },
   "outputs": [
    {
     "name": "stdout",
     "output_type": "stream",
     "text": [
      "****************************** FOR Smoker_yes ******************************\n"
     ]
    },
    {
     "data": {
      "text/html": [
       "<div>\n",
       "<style scoped>\n",
       "    .dataframe tbody tr th:only-of-type {\n",
       "        vertical-align: middle;\n",
       "    }\n",
       "\n",
       "    .dataframe tbody tr th {\n",
       "        vertical-align: top;\n",
       "    }\n",
       "\n",
       "    .dataframe thead th {\n",
       "        text-align: right;\n",
       "    }\n",
       "</style>\n",
       "<table border=\"1\" class=\"dataframe\">\n",
       "  <thead>\n",
       "    <tr style=\"text-align: right;\">\n",
       "      <th></th>\n",
       "      <th>count</th>\n",
       "      <th>mean</th>\n",
       "      <th>std</th>\n",
       "      <th>min</th>\n",
       "      <th>25%</th>\n",
       "      <th>50%</th>\n",
       "      <th>75%</th>\n",
       "      <th>max</th>\n",
       "    </tr>\n",
       "  </thead>\n",
       "  <tbody>\n",
       "    <tr>\n",
       "      <th>age</th>\n",
       "      <td>274.0</td>\n",
       "      <td>38.514599</td>\n",
       "      <td>13.923186</td>\n",
       "      <td>18.0000</td>\n",
       "      <td>27.000000</td>\n",
       "      <td>38.00000</td>\n",
       "      <td>49.000000</td>\n",
       "      <td>64.00000</td>\n",
       "    </tr>\n",
       "    <tr>\n",
       "      <th>bmi</th>\n",
       "      <td>274.0</td>\n",
       "      <td>30.708449</td>\n",
       "      <td>6.318644</td>\n",
       "      <td>17.1950</td>\n",
       "      <td>26.083750</td>\n",
       "      <td>30.44750</td>\n",
       "      <td>35.200000</td>\n",
       "      <td>52.58000</td>\n",
       "    </tr>\n",
       "    <tr>\n",
       "      <th>children</th>\n",
       "      <td>274.0</td>\n",
       "      <td>1.113139</td>\n",
       "      <td>1.157066</td>\n",
       "      <td>0.0000</td>\n",
       "      <td>0.000000</td>\n",
       "      <td>1.00000</td>\n",
       "      <td>2.000000</td>\n",
       "      <td>5.00000</td>\n",
       "    </tr>\n",
       "    <tr>\n",
       "      <th>charges</th>\n",
       "      <td>274.0</td>\n",
       "      <td>32050.231832</td>\n",
       "      <td>11541.547176</td>\n",
       "      <td>12829.4551</td>\n",
       "      <td>20826.244213</td>\n",
       "      <td>34456.34845</td>\n",
       "      <td>41019.207275</td>\n",
       "      <td>63770.42801</td>\n",
       "    </tr>\n",
       "  </tbody>\n",
       "</table>\n",
       "</div>"
      ],
      "text/plain": [
       "          count          mean           std         min           25%  \\\n",
       "age       274.0     38.514599     13.923186     18.0000     27.000000   \n",
       "bmi       274.0     30.708449      6.318644     17.1950     26.083750   \n",
       "children  274.0      1.113139      1.157066      0.0000      0.000000   \n",
       "charges   274.0  32050.231832  11541.547176  12829.4551  20826.244213   \n",
       "\n",
       "                  50%           75%          max  \n",
       "age          38.00000     49.000000     64.00000  \n",
       "bmi          30.44750     35.200000     52.58000  \n",
       "children      1.00000      2.000000      5.00000  \n",
       "charges   34456.34845  41019.207275  63770.42801  "
      ]
     },
     "metadata": {},
     "output_type": "display_data"
    },
    {
     "name": "stdout",
     "output_type": "stream",
     "text": [
      "****************************** FOR Smoker_no ******************************\n"
     ]
    },
    {
     "data": {
      "text/html": [
       "<div>\n",
       "<style scoped>\n",
       "    .dataframe tbody tr th:only-of-type {\n",
       "        vertical-align: middle;\n",
       "    }\n",
       "\n",
       "    .dataframe tbody tr th {\n",
       "        vertical-align: top;\n",
       "    }\n",
       "\n",
       "    .dataframe thead th {\n",
       "        text-align: right;\n",
       "    }\n",
       "</style>\n",
       "<table border=\"1\" class=\"dataframe\">\n",
       "  <thead>\n",
       "    <tr style=\"text-align: right;\">\n",
       "      <th></th>\n",
       "      <th>count</th>\n",
       "      <th>mean</th>\n",
       "      <th>std</th>\n",
       "      <th>min</th>\n",
       "      <th>25%</th>\n",
       "      <th>50%</th>\n",
       "      <th>75%</th>\n",
       "      <th>max</th>\n",
       "    </tr>\n",
       "  </thead>\n",
       "  <tbody>\n",
       "    <tr>\n",
       "      <th>age</th>\n",
       "      <td>1063.0</td>\n",
       "      <td>39.404516</td>\n",
       "      <td>14.076133</td>\n",
       "      <td>18.0000</td>\n",
       "      <td>27.0000</td>\n",
       "      <td>40.0000</td>\n",
       "      <td>52.0000</td>\n",
       "      <td>64.00000</td>\n",
       "    </tr>\n",
       "    <tr>\n",
       "      <th>bmi</th>\n",
       "      <td>1063.0</td>\n",
       "      <td>30.651853</td>\n",
       "      <td>6.045956</td>\n",
       "      <td>15.9600</td>\n",
       "      <td>26.3150</td>\n",
       "      <td>30.3050</td>\n",
       "      <td>34.4300</td>\n",
       "      <td>53.13000</td>\n",
       "    </tr>\n",
       "    <tr>\n",
       "      <th>children</th>\n",
       "      <td>1063.0</td>\n",
       "      <td>1.091251</td>\n",
       "      <td>1.218250</td>\n",
       "      <td>0.0000</td>\n",
       "      <td>0.0000</td>\n",
       "      <td>1.0000</td>\n",
       "      <td>2.0000</td>\n",
       "      <td>5.00000</td>\n",
       "    </tr>\n",
       "    <tr>\n",
       "      <th>charges</th>\n",
       "      <td>1063.0</td>\n",
       "      <td>8440.660307</td>\n",
       "      <td>5992.973800</td>\n",
       "      <td>1121.8739</td>\n",
       "      <td>3988.8835</td>\n",
       "      <td>7345.7266</td>\n",
       "      <td>11363.0191</td>\n",
       "      <td>36910.60803</td>\n",
       "    </tr>\n",
       "  </tbody>\n",
       "</table>\n",
       "</div>"
      ],
      "text/plain": [
       "           count         mean          std        min        25%        50%  \\\n",
       "age       1063.0    39.404516    14.076133    18.0000    27.0000    40.0000   \n",
       "bmi       1063.0    30.651853     6.045956    15.9600    26.3150    30.3050   \n",
       "children  1063.0     1.091251     1.218250     0.0000     0.0000     1.0000   \n",
       "charges   1063.0  8440.660307  5992.973800  1121.8739  3988.8835  7345.7266   \n",
       "\n",
       "                 75%          max  \n",
       "age          52.0000     64.00000  \n",
       "bmi          34.4300     53.13000  \n",
       "children      2.0000      5.00000  \n",
       "charges   11363.0191  36910.60803  "
      ]
     },
     "metadata": {},
     "output_type": "display_data"
    },
    {
     "data": {
      "text/plain": [
       "' - There are 1063 non smoker and 274 smoker. - Maximum charges value of smoker is much higher than the non smokers. \\n- Mean value of charges of smoker is also quite higher than the non smokers. '"
      ]
     },
     "execution_count": 9,
     "metadata": {},
     "output_type": "execute_result"
    }
   ],
   "source": [
    "smoker_yes = df.query('smoker == \"yes\"')\n",
    "print(\"*\"*30, \"FOR Smoker_yes\", \"*\"*30)\n",
    "display(smoker_yes.describe().T)\n",
    "smoker_no = df.query('smoker == \"no\"')\n",
    "print(\"*\"*30, \"FOR Smoker_no\", \"*\"*30)\n",
    "display(smoker_no.describe().T)\n",
    "\n",
    "''' - There are 1063 non smoker and 274 smoker. - Maximum charges value of smoker is much higher than the non smokers. \n",
    "- Mean value of charges of smoker is also quite higher than the non smokers. '''\n"
   ]
  },
  {
   "cell_type": "code",
   "execution_count": 10,
   "id": "d9ed6f1f",
   "metadata": {
    "execution": {
     "iopub.execute_input": "2022-08-19T13:04:29.850332Z",
     "iopub.status.busy": "2022-08-19T13:04:29.849942Z",
     "iopub.status.idle": "2022-08-19T13:04:30.145979Z",
     "shell.execute_reply": "2022-08-19T13:04:30.144924Z"
    },
    "papermill": {
     "duration": 0.316657,
     "end_time": "2022-08-19T13:04:30.148020",
     "exception": false,
     "start_time": "2022-08-19T13:04:29.831363",
     "status": "completed"
    },
    "tags": []
   },
   "outputs": [
    {
     "data": {
      "text/plain": [
       "<AxesSubplot:xlabel='age', ylabel='charges'>"
      ]
     },
     "execution_count": 10,
     "metadata": {},
     "output_type": "execute_result"
    },
    {
     "data": {
      "image/png": "[encoded data removed]",
      "text/plain": [
       "<Figure size 432x288 with 1 Axes>"
      ]
     },
     "metadata": {
      "needs_background": "light"
     },
     "output_type": "display_data"
    }
   ],
   "source": [
    "sns.scatterplot(data=df, x = \"age\", y = \"charges\", hue = \"smoker\")\n",
    "# Also, we can observe from the plot, ıf people are smoker, charges are higher. Let's clearly examine it with groupby function."
   ]
  },
  {
   "cell_type": "code",
   "execution_count": 11,
   "id": "81e2bf16",
   "metadata": {
    "execution": {
     "iopub.execute_input": "2022-08-19T13:04:30.180387Z",
     "iopub.status.busy": "2022-08-19T13:04:30.179442Z",
     "iopub.status.idle": "2022-08-19T13:04:30.189218Z",
     "shell.execute_reply": "2022-08-19T13:04:30.188223Z"
    },
    "papermill": {
     "duration": 0.027904,
     "end_time": "2022-08-19T13:04:30.191437",
     "exception": false,
     "start_time": "2022-08-19T13:04:30.163533",
     "status": "completed"
    },
    "tags": []
   },
   "outputs": [
    {
     "data": {
      "text/plain": [
       "smoker\n",
       "no      8440.660307\n",
       "yes    32050.231832\n",
       "Name: charges, dtype: float64"
      ]
     },
     "execution_count": 11,
     "metadata": {},
     "output_type": "execute_result"
    }
   ],
   "source": [
    "df.groupby(\"smoker\")['charges'].mean()\n",
    "# It is clearly seen, If people are smoker, ınsurance charges are higher."
   ]
  },
  {
   "cell_type": "markdown",
   "id": "088e74d0",
   "metadata": {
    "papermill": {
     "duration": 0.015042,
     "end_time": "2022-08-19T13:04:30.222536",
     "exception": false,
     "start_time": "2022-08-19T13:04:30.207494",
     "status": "completed"
    },
    "tags": []
   },
   "source": [
    "### Smoker and Region"
   ]
  },
  {
   "cell_type": "code",
   "execution_count": 12,
   "id": "5107e7a5",
   "metadata": {
    "execution": {
     "iopub.execute_input": "2022-08-19T13:04:30.254554Z",
     "iopub.status.busy": "2022-08-19T13:04:30.254269Z",
     "iopub.status.idle": "2022-08-19T13:04:30.560985Z",
     "shell.execute_reply": "2022-08-19T13:04:30.560126Z"
    },
    "papermill": {
     "duration": 0.324554,
     "end_time": "2022-08-19T13:04:30.562939",
     "exception": false,
     "start_time": "2022-08-19T13:04:30.238385",
     "status": "completed"
    },
    "tags": []
   },
   "outputs": [
    {
     "data": {
      "text/plain": [
       "<seaborn.axisgrid.FacetGrid at 0x7fe63151cf10>"
      ]
     },
     "execution_count": 12,
     "metadata": {},
     "output_type": "execute_result"
    },
    {
     "data": {
      "image/png": "[encoded data removed]",
      "text/plain": [
       "<Figure size 413.25x360 with 1 Axes>"
      ]
     },
     "metadata": {
      "needs_background": "light"
     },
     "output_type": "display_data"
    }
   ],
   "source": [
    "sns.catplot(x=\"region\", kind=\"count\", palette=\"ch:.25\", hue = \"smoker\", data=df)\n",
    "# All regions have almost the same smoker size. In addition, southeast region has a little bit more smoker size."
   ]
  },
  {
   "cell_type": "code",
   "execution_count": 13,
   "id": "476b52ba",
   "metadata": {
    "execution": {
     "iopub.execute_input": "2022-08-19T13:04:30.595673Z",
     "iopub.status.busy": "2022-08-19T13:04:30.594902Z",
     "iopub.status.idle": "2022-08-19T13:04:30.867533Z",
     "shell.execute_reply": "2022-08-19T13:04:30.866695Z"
    },
    "papermill": {
     "duration": 0.290935,
     "end_time": "2022-08-19T13:04:30.869470",
     "exception": false,
     "start_time": "2022-08-19T13:04:30.578535",
     "status": "completed"
    },
    "tags": []
   },
   "outputs": [
    {
     "data": {
      "text/plain": [
       "<seaborn.axisgrid.FacetGrid at 0x7fe6314b5590>"
      ]
     },
     "execution_count": 13,
     "metadata": {},
     "output_type": "execute_result"
    },
    {
     "data": {
      "image/png": "[encoded data removed]",
      "text/plain": [
       "<Figure size 360x360 with 1 Axes>"
      ]
     },
     "metadata": {
      "needs_background": "light"
     },
     "output_type": "display_data"
    }
   ],
   "source": [
    "sns.catplot(data=df, x=\"sex\", hue = \"sex\", y=\"bmi\")\n",
    "# Both male and female categories have the same intensity in the bmi."
   ]
  },
  {
   "cell_type": "markdown",
   "id": "81450416",
   "metadata": {
    "papermill": {
     "duration": 0.015739,
     "end_time": "2022-08-19T13:04:30.902394",
     "exception": false,
     "start_time": "2022-08-19T13:04:30.886655",
     "status": "completed"
    },
    "tags": []
   },
   "source": [
    "### Which Region Has More Children Count?"
   ]
  },
  {
   "cell_type": "code",
   "execution_count": 14,
   "id": "77eeaf11",
   "metadata": {
    "execution": {
     "iopub.execute_input": "2022-08-19T13:04:30.935249Z",
     "iopub.status.busy": "2022-08-19T13:04:30.934936Z",
     "iopub.status.idle": "2022-08-19T13:04:31.326924Z",
     "shell.execute_reply": "2022-08-19T13:04:31.325923Z"
    },
    "papermill": {
     "duration": 0.410816,
     "end_time": "2022-08-19T13:04:31.328944",
     "exception": false,
     "start_time": "2022-08-19T13:04:30.918128",
     "status": "completed"
    },
    "tags": []
   },
   "outputs": [
    {
     "data": {
      "text/plain": [
       "<seaborn.axisgrid.FacetGrid at 0x7fe631542150>"
      ]
     },
     "execution_count": 14,
     "metadata": {},
     "output_type": "execute_result"
    },
    {
     "data": {
      "image/png": "[encoded data removed]",
      "text/plain": [
       "<Figure size 447.25x360 with 1 Axes>"
      ]
     },
     "metadata": {
      "needs_background": "light"
     },
     "output_type": "display_data"
    }
   ],
   "source": [
    "sns.catplot(data=df, x=\"children\", hue = \"region\", kind = \"count\")"
   ]
  },
  {
   "cell_type": "code",
   "execution_count": 15,
   "id": "8984b6e9",
   "metadata": {
    "execution": {
     "iopub.execute_input": "2022-08-19T13:04:31.363574Z",
     "iopub.status.busy": "2022-08-19T13:04:31.363281Z",
     "iopub.status.idle": "2022-08-19T13:04:31.377828Z",
     "shell.execute_reply": "2022-08-19T13:04:31.376973Z"
    },
    "papermill": {
     "duration": 0.034117,
     "end_time": "2022-08-19T13:04:31.380177",
     "exception": false,
     "start_time": "2022-08-19T13:04:31.346060",
     "status": "completed"
    },
    "tags": []
   },
   "outputs": [
    {
     "data": {
      "text/html": [
       "<div>\n",
       "<style scoped>\n",
       "    .dataframe tbody tr th:only-of-type {\n",
       "        vertical-align: middle;\n",
       "    }\n",
       "\n",
       "    .dataframe tbody tr th {\n",
       "        vertical-align: top;\n",
       "    }\n",
       "\n",
       "    .dataframe thead th {\n",
       "        text-align: right;\n",
       "    }\n",
       "</style>\n",
       "<table border=\"1\" class=\"dataframe\">\n",
       "  <thead>\n",
       "    <tr style=\"text-align: right;\">\n",
       "      <th></th>\n",
       "      <th>children</th>\n",
       "    </tr>\n",
       "    <tr>\n",
       "      <th>region</th>\n",
       "      <th></th>\n",
       "    </tr>\n",
       "  </thead>\n",
       "  <tbody>\n",
       "    <tr>\n",
       "      <th>northeast</th>\n",
       "      <td>339</td>\n",
       "    </tr>\n",
       "    <tr>\n",
       "      <th>northwest</th>\n",
       "      <td>373</td>\n",
       "    </tr>\n",
       "    <tr>\n",
       "      <th>southeast</th>\n",
       "      <td>382</td>\n",
       "    </tr>\n",
       "    <tr>\n",
       "      <th>southwest</th>\n",
       "      <td>371</td>\n",
       "    </tr>\n",
       "  </tbody>\n",
       "</table>\n",
       "</div>"
      ],
      "text/plain": [
       "           children\n",
       "region             \n",
       "northeast       339\n",
       "northwest       373\n",
       "southeast       382\n",
       "southwest       371"
      ]
     },
     "execution_count": 15,
     "metadata": {},
     "output_type": "execute_result"
    }
   ],
   "source": [
    "df.groupby('region')[[\"children\"]].sum()\n",
    "# Southeast region has most children"
   ]
  },
  {
   "cell_type": "markdown",
   "id": "30b20953",
   "metadata": {
    "papermill": {
     "duration": 0.01625,
     "end_time": "2022-08-19T13:04:31.413466",
     "exception": false,
     "start_time": "2022-08-19T13:04:31.397216",
     "status": "completed"
    },
    "tags": []
   },
   "source": [
    "### Age and Bmi"
   ]
  },
  {
   "cell_type": "code",
   "execution_count": 16,
   "id": "d9988184",
   "metadata": {
    "execution": {
     "iopub.execute_input": "2022-08-19T13:04:31.448224Z",
     "iopub.status.busy": "2022-08-19T13:04:31.447921Z",
     "iopub.status.idle": "2022-08-19T13:04:31.792609Z",
     "shell.execute_reply": "2022-08-19T13:04:31.791070Z"
    },
    "papermill": {
     "duration": 0.365289,
     "end_time": "2022-08-19T13:04:31.794993",
     "exception": false,
     "start_time": "2022-08-19T13:04:31.429704",
     "status": "completed"
    },
    "tags": []
   },
   "outputs": [
    {
     "name": "stdout",
     "output_type": "stream",
     "text": [
      "          age       bmi\n",
      "age  1.000000  0.109344\n",
      "bmi  0.109344  1.000000\n"
     ]
    },
    {
     "data": {
      "image/png": "[encoded data removed]",
      "text/plain": [
       "<Figure size 432x288 with 1 Axes>"
      ]
     },
     "metadata": {
      "needs_background": "light"
     },
     "output_type": "display_data"
    }
   ],
   "source": [
    "sns.regplot(data=df, x=\"age\", y=\"bmi\")\n",
    "corr_number = df[[\"age\",\"bmi\"]].corr()\n",
    "print(f\"{corr_number}\")\n",
    "# Correlation number is 0.109, so there is weak correlation."
   ]
  },
  {
   "cell_type": "markdown",
   "id": "6651d119",
   "metadata": {
    "papermill": {
     "duration": 0.017352,
     "end_time": "2022-08-19T13:04:31.830133",
     "exception": false,
     "start_time": "2022-08-19T13:04:31.812781",
     "status": "completed"
    },
    "tags": []
   },
   "source": [
    "### Children and Bmi"
   ]
  },
  {
   "cell_type": "code",
   "execution_count": 17,
   "id": "bf62d248",
   "metadata": {
    "execution": {
     "iopub.execute_input": "2022-08-19T13:04:31.866706Z",
     "iopub.status.busy": "2022-08-19T13:04:31.866373Z",
     "iopub.status.idle": "2022-08-19T13:04:32.179234Z",
     "shell.execute_reply": "2022-08-19T13:04:32.178298Z"
    },
    "papermill": {
     "duration": 0.333469,
     "end_time": "2022-08-19T13:04:32.181499",
     "exception": false,
     "start_time": "2022-08-19T13:04:31.848030",
     "status": "completed"
    },
    "tags": []
   },
   "outputs": [
    {
     "data": {
      "text/plain": [
       "<AxesSubplot:xlabel='children', ylabel='bmi'>"
      ]
     },
     "execution_count": 17,
     "metadata": {},
     "output_type": "execute_result"
    },
    {
     "data": {
      "image/png": "[encoded data removed]",
      "text/plain": [
       "<Figure size 432x288 with 1 Axes>"
      ]
     },
     "metadata": {
      "needs_background": "light"
     },
     "output_type": "display_data"
    }
   ],
   "source": [
    "sns.barplot(data=df, x=\"children\", y=\"bmi\")"
   ]
  },
  {
   "cell_type": "code",
   "execution_count": 18,
   "id": "6a344fd5",
   "metadata": {
    "execution": {
     "iopub.execute_input": "2022-08-19T13:04:32.217807Z",
     "iopub.status.busy": "2022-08-19T13:04:32.217510Z",
     "iopub.status.idle": "2022-08-19T13:04:32.228263Z",
     "shell.execute_reply": "2022-08-19T13:04:32.227356Z"
    },
    "papermill": {
     "duration": 0.031278,
     "end_time": "2022-08-19T13:04:32.230359",
     "exception": false,
     "start_time": "2022-08-19T13:04:32.199081",
     "status": "completed"
    },
    "tags": []
   },
   "outputs": [
    {
     "data": {
      "text/html": [
       "<div>\n",
       "<style scoped>\n",
       "    .dataframe tbody tr th:only-of-type {\n",
       "        vertical-align: middle;\n",
       "    }\n",
       "\n",
       "    .dataframe tbody tr th {\n",
       "        vertical-align: top;\n",
       "    }\n",
       "\n",
       "    .dataframe thead th {\n",
       "        text-align: right;\n",
       "    }\n",
       "</style>\n",
       "<table border=\"1\" class=\"dataframe\">\n",
       "  <thead>\n",
       "    <tr style=\"text-align: right;\">\n",
       "      <th></th>\n",
       "      <th>bmi</th>\n",
       "    </tr>\n",
       "    <tr>\n",
       "      <th>children</th>\n",
       "      <th></th>\n",
       "    </tr>\n",
       "  </thead>\n",
       "  <tbody>\n",
       "    <tr>\n",
       "      <th>0</th>\n",
       "      <td>30.550227</td>\n",
       "    </tr>\n",
       "    <tr>\n",
       "      <th>1</th>\n",
       "      <td>30.623148</td>\n",
       "    </tr>\n",
       "    <tr>\n",
       "      <th>2</th>\n",
       "      <td>30.978104</td>\n",
       "    </tr>\n",
       "    <tr>\n",
       "      <th>3</th>\n",
       "      <td>30.684331</td>\n",
       "    </tr>\n",
       "    <tr>\n",
       "      <th>4</th>\n",
       "      <td>31.391200</td>\n",
       "    </tr>\n",
       "    <tr>\n",
       "      <th>5</th>\n",
       "      <td>29.605000</td>\n",
       "    </tr>\n",
       "  </tbody>\n",
       "</table>\n",
       "</div>"
      ],
      "text/plain": [
       "                bmi\n",
       "children           \n",
       "0         30.550227\n",
       "1         30.623148\n",
       "2         30.978104\n",
       "3         30.684331\n",
       "4         31.391200\n",
       "5         29.605000"
      ]
     },
     "execution_count": 18,
     "metadata": {},
     "output_type": "execute_result"
    }
   ],
   "source": [
    "df.groupby('children')[[\"bmi\"]].mean()\n",
    "# Everyone who have children or not, have around \"30\" bmi."
   ]
  },
  {
   "cell_type": "markdown",
   "id": "f376f215",
   "metadata": {
    "papermill": {
     "duration": 0.017099,
     "end_time": "2022-08-19T13:04:32.265653",
     "exception": false,
     "start_time": "2022-08-19T13:04:32.248554",
     "status": "completed"
    },
    "tags": []
   },
   "source": [
    "### Any outliers in Bmi?"
   ]
  },
  {
   "cell_type": "code",
   "execution_count": 19,
   "id": "f818559b",
   "metadata": {
    "execution": {
     "iopub.execute_input": "2022-08-19T13:04:32.301662Z",
     "iopub.status.busy": "2022-08-19T13:04:32.301382Z",
     "iopub.status.idle": "2022-08-19T13:04:32.462451Z",
     "shell.execute_reply": "2022-08-19T13:04:32.461282Z"
    },
    "papermill": {
     "duration": 0.181618,
     "end_time": "2022-08-19T13:04:32.464586",
     "exception": false,
     "start_time": "2022-08-19T13:04:32.282968",
     "status": "completed"
    },
    "tags": []
   },
   "outputs": [
    {
     "data": {
      "text/plain": [
       "<AxesSubplot:xlabel='bmi'>"
      ]
     },
     "execution_count": 19,
     "metadata": {},
     "output_type": "execute_result"
    },
    {
     "data": {
      "image/png": "[encoded data removed]",
      "text/plain": [
       "<Figure size 432x288 with 1 Axes>"
      ]
     },
     "metadata": {
      "needs_background": "light"
     },
     "output_type": "display_data"
    }
   ],
   "source": [
    "sns.boxplot(data=df, x=\"bmi\")\n",
    "# It seems there are outliers in bmi feature, let's find how many outliers."
   ]
  },
  {
   "cell_type": "code",
   "execution_count": 20,
   "id": "88b26255",
   "metadata": {
    "execution": {
     "iopub.execute_input": "2022-08-19T13:04:32.513059Z",
     "iopub.status.busy": "2022-08-19T13:04:32.512687Z",
     "iopub.status.idle": "2022-08-19T13:04:32.522718Z",
     "shell.execute_reply": "2022-08-19T13:04:32.521451Z"
    },
    "papermill": {
     "duration": 0.041788,
     "end_time": "2022-08-19T13:04:32.525799",
     "exception": false,
     "start_time": "2022-08-19T13:04:32.484011",
     "status": "completed"
    },
    "tags": []
   },
   "outputs": [
    {
     "name": "stdout",
     "output_type": "stream",
     "text": [
      "Q1: 26.29\n",
      "Q3: 26.29\n",
      "IQR: 26.29\n",
      "lower_threshold: 13.674999999999994\n",
      "upper_threshold: 47.31500000000001\n"
     ]
    }
   ],
   "source": [
    "df_bmi = df['bmi']\n",
    "Q1 = df_bmi.quantile(0.25)\n",
    "print(f\"Q1: {Q1}\")\n",
    "Q3 = df_bmi.quantile(0.75)\n",
    "print(f\"Q3: {Q1}\")\n",
    "IQR = Q3 - Q1\n",
    "print(f\"IQR: {Q1}\")\n",
    "lower_threshold = Q1 - 1.5*IQR\n",
    "print(f\"lower_threshold: {lower_threshold}\")\n",
    "upper_threshold = Q3 + 1.5*IQR\n",
    "print(f\"upper_threshold: {upper_threshold}\")"
   ]
  },
  {
   "cell_type": "code",
   "execution_count": 21,
   "id": "a8cd6f60",
   "metadata": {
    "execution": {
     "iopub.execute_input": "2022-08-19T13:04:32.562152Z",
     "iopub.status.busy": "2022-08-19T13:04:32.561865Z",
     "iopub.status.idle": "2022-08-19T13:04:32.574394Z",
     "shell.execute_reply": "2022-08-19T13:04:32.573172Z"
    },
    "papermill": {
     "duration": 0.033136,
     "end_time": "2022-08-19T13:04:32.576488",
     "exception": false,
     "start_time": "2022-08-19T13:04:32.543352",
     "status": "completed"
    },
    "tags": []
   },
   "outputs": [
    {
     "name": "stdout",
     "output_type": "stream",
     "text": [
      "Upper_outliers_count: 9\n",
      "Lower_outliers_count: 0\n"
     ]
    }
   ],
   "source": [
    "# On the boxplot, data has outliers on the upper section. But let's examine both lower and upper boundaries.\n",
    "upper_outliers_count = df.query(f'bmi > {upper_threshold}')[\"bmi\"].count()\n",
    "print(f\"Upper_outliers_count: {upper_outliers_count}\")\n",
    "lower_outliers_count = df.query(f'bmi < {lower_threshold}')[\"bmi\"].count()\n",
    "print(f\"Lower_outliers_count: {lower_outliers_count}\")\n",
    "# There are 9 outliers only upper section of the bmi feature."
   ]
  },
  {
   "cell_type": "markdown",
   "id": "464ff534",
   "metadata": {
    "papermill": {
     "duration": 0.017948,
     "end_time": "2022-08-19T13:04:32.612269",
     "exception": false,
     "start_time": "2022-08-19T13:04:32.594321",
     "status": "completed"
    },
    "tags": []
   },
   "source": [
    "#### Fixing of Outliers"
   ]
  },
  {
   "cell_type": "code",
   "execution_count": 22,
   "id": "21441374",
   "metadata": {
    "execution": {
     "iopub.execute_input": "2022-08-19T13:04:32.649379Z",
     "iopub.status.busy": "2022-08-19T13:04:32.649108Z",
     "iopub.status.idle": "2022-08-19T13:04:32.663567Z",
     "shell.execute_reply": "2022-08-19T13:04:32.662519Z"
    },
    "papermill": {
     "duration": 0.035956,
     "end_time": "2022-08-19T13:04:32.665775",
     "exception": false,
     "start_time": "2022-08-19T13:04:32.629819",
     "status": "completed"
    },
    "tags": []
   },
   "outputs": [
    {
     "data": {
      "text/html": [
       "<div>\n",
       "<style scoped>\n",
       "    .dataframe tbody tr th:only-of-type {\n",
       "        vertical-align: middle;\n",
       "    }\n",
       "\n",
       "    .dataframe tbody tr th {\n",
       "        vertical-align: top;\n",
       "    }\n",
       "\n",
       "    .dataframe thead th {\n",
       "        text-align: right;\n",
       "    }\n",
       "</style>\n",
       "<table border=\"1\" class=\"dataframe\">\n",
       "  <thead>\n",
       "    <tr style=\"text-align: right;\">\n",
       "      <th></th>\n",
       "      <th>age</th>\n",
       "      <th>sex</th>\n",
       "      <th>bmi</th>\n",
       "      <th>children</th>\n",
       "      <th>smoker</th>\n",
       "      <th>region</th>\n",
       "      <th>charges</th>\n",
       "    </tr>\n",
       "  </thead>\n",
       "  <tbody>\n",
       "    <tr>\n",
       "      <th>116</th>\n",
       "      <td>58</td>\n",
       "      <td>male</td>\n",
       "      <td>47.315</td>\n",
       "      <td>0</td>\n",
       "      <td>no</td>\n",
       "      <td>southeast</td>\n",
       "      <td>11381.32540</td>\n",
       "    </tr>\n",
       "    <tr>\n",
       "      <th>286</th>\n",
       "      <td>46</td>\n",
       "      <td>female</td>\n",
       "      <td>47.315</td>\n",
       "      <td>2</td>\n",
       "      <td>no</td>\n",
       "      <td>northeast</td>\n",
       "      <td>9432.92530</td>\n",
       "    </tr>\n",
       "    <tr>\n",
       "      <th>401</th>\n",
       "      <td>47</td>\n",
       "      <td>male</td>\n",
       "      <td>47.315</td>\n",
       "      <td>1</td>\n",
       "      <td>no</td>\n",
       "      <td>southeast</td>\n",
       "      <td>8083.91980</td>\n",
       "    </tr>\n",
       "    <tr>\n",
       "      <th>543</th>\n",
       "      <td>54</td>\n",
       "      <td>female</td>\n",
       "      <td>47.315</td>\n",
       "      <td>0</td>\n",
       "      <td>yes</td>\n",
       "      <td>southeast</td>\n",
       "      <td>63770.42801</td>\n",
       "    </tr>\n",
       "    <tr>\n",
       "      <th>847</th>\n",
       "      <td>23</td>\n",
       "      <td>male</td>\n",
       "      <td>47.315</td>\n",
       "      <td>1</td>\n",
       "      <td>no</td>\n",
       "      <td>southeast</td>\n",
       "      <td>2438.05520</td>\n",
       "    </tr>\n",
       "    <tr>\n",
       "      <th>860</th>\n",
       "      <td>37</td>\n",
       "      <td>female</td>\n",
       "      <td>47.315</td>\n",
       "      <td>2</td>\n",
       "      <td>yes</td>\n",
       "      <td>southwest</td>\n",
       "      <td>46113.51100</td>\n",
       "    </tr>\n",
       "    <tr>\n",
       "      <th>1047</th>\n",
       "      <td>22</td>\n",
       "      <td>male</td>\n",
       "      <td>47.315</td>\n",
       "      <td>1</td>\n",
       "      <td>yes</td>\n",
       "      <td>southeast</td>\n",
       "      <td>44501.39820</td>\n",
       "    </tr>\n",
       "    <tr>\n",
       "      <th>1088</th>\n",
       "      <td>52</td>\n",
       "      <td>male</td>\n",
       "      <td>47.315</td>\n",
       "      <td>1</td>\n",
       "      <td>no</td>\n",
       "      <td>southeast</td>\n",
       "      <td>9748.91060</td>\n",
       "    </tr>\n",
       "    <tr>\n",
       "      <th>1317</th>\n",
       "      <td>18</td>\n",
       "      <td>male</td>\n",
       "      <td>47.315</td>\n",
       "      <td>0</td>\n",
       "      <td>no</td>\n",
       "      <td>southeast</td>\n",
       "      <td>1163.46270</td>\n",
       "    </tr>\n",
       "  </tbody>\n",
       "</table>\n",
       "</div>"
      ],
      "text/plain": [
       "      age     sex     bmi  children smoker     region      charges\n",
       "116    58    male  47.315         0     no  southeast  11381.32540\n",
       "286    46  female  47.315         2     no  northeast   9432.92530\n",
       "401    47    male  47.315         1     no  southeast   8083.91980\n",
       "543    54  female  47.315         0    yes  southeast  63770.42801\n",
       "847    23    male  47.315         1     no  southeast   2438.05520\n",
       "860    37  female  47.315         2    yes  southwest  46113.51100\n",
       "1047   22    male  47.315         1    yes  southeast  44501.39820\n",
       "1088   52    male  47.315         1     no  southeast   9748.91060\n",
       "1317   18    male  47.315         0     no  southeast   1163.46270"
      ]
     },
     "execution_count": 22,
     "metadata": {},
     "output_type": "execute_result"
    }
   ],
   "source": [
    "# Outliers cause bias so we need to handle with them.\n",
    "df_bmi = df['bmi']\n",
    "upper_outliers = df[df_bmi > upper_threshold]\n",
    "upper_outliers[\"bmi\"] = upper_threshold\n",
    "upper_outliers\n",
    "# Upper outliers is equalized to upper threshold value."
   ]
  },
  {
   "cell_type": "code",
   "execution_count": 23,
   "id": "5c4bd81f",
   "metadata": {
    "execution": {
     "iopub.execute_input": "2022-08-19T13:04:32.703415Z",
     "iopub.status.busy": "2022-08-19T13:04:32.703152Z",
     "iopub.status.idle": "2022-08-19T13:04:32.712874Z",
     "shell.execute_reply": "2022-08-19T13:04:32.712045Z"
    },
    "papermill": {
     "duration": 0.030641,
     "end_time": "2022-08-19T13:04:32.714928",
     "exception": false,
     "start_time": "2022-08-19T13:04:32.684287",
     "status": "completed"
    },
    "tags": []
   },
   "outputs": [],
   "source": [
    "# Let's entegrate the new values of 9 outliers on dataframe.\n",
    "non_outliers = df[~(df[\"bmi\"] > upper_threshold)]\n",
    "new_df = pd.concat([non_outliers, upper_outliers])\n",
    "new_df.reset_index(inplace=True)\n",
    "new_df.drop(columns = ['index'], inplace=True)"
   ]
  },
  {
   "cell_type": "code",
   "execution_count": 24,
   "id": "3c0baaaf",
   "metadata": {
    "execution": {
     "iopub.execute_input": "2022-08-19T13:04:32.753741Z",
     "iopub.status.busy": "2022-08-19T13:04:32.752820Z",
     "iopub.status.idle": "2022-08-19T13:04:32.905529Z",
     "shell.execute_reply": "2022-08-19T13:04:32.904168Z"
    },
    "papermill": {
     "duration": 0.174523,
     "end_time": "2022-08-19T13:04:32.907734",
     "exception": false,
     "start_time": "2022-08-19T13:04:32.733211",
     "status": "completed"
    },
    "tags": []
   },
   "outputs": [
    {
     "data": {
      "text/plain": [
       "<AxesSubplot:xlabel='bmi'>"
      ]
     },
     "execution_count": 24,
     "metadata": {},
     "output_type": "execute_result"
    },
    {
     "data": {
      "image/png": "[encoded data removed]",
      "text/plain": [
       "<Figure size 432x288 with 1 Axes>"
      ]
     },
     "metadata": {
      "needs_background": "light"
     },
     "output_type": "display_data"
    }
   ],
   "source": [
    "# I'll continue with this new dataframe without outliers.\n",
    "sns.boxplot(data=new_df, x=\"bmi\")"
   ]
  },
  {
   "cell_type": "markdown",
   "id": "d653296d",
   "metadata": {
    "papermill": {
     "duration": 0.018995,
     "end_time": "2022-08-19T13:04:32.948560",
     "exception": false,
     "start_time": "2022-08-19T13:04:32.929565",
     "status": "completed"
    },
    "tags": []
   },
   "source": [
    "### Bmi, Region and Smoker"
   ]
  },
  {
   "cell_type": "code",
   "execution_count": 25,
   "id": "d8cf4dc1",
   "metadata": {
    "execution": {
     "iopub.execute_input": "2022-08-19T13:04:32.986640Z",
     "iopub.status.busy": "2022-08-19T13:04:32.986325Z",
     "iopub.status.idle": "2022-08-19T13:04:33.388682Z",
     "shell.execute_reply": "2022-08-19T13:04:33.387760Z"
    },
    "papermill": {
     "duration": 0.424321,
     "end_time": "2022-08-19T13:04:33.391179",
     "exception": false,
     "start_time": "2022-08-19T13:04:32.966858",
     "status": "completed"
    },
    "tags": []
   },
   "outputs": [
    {
     "data": {
      "text/plain": [
       "<AxesSubplot:xlabel='region', ylabel='bmi'>"
      ]
     },
     "execution_count": 25,
     "metadata": {},
     "output_type": "execute_result"
    },
    {
     "data": {
      "image/png": "[encoded data removed]",
      "text/plain": [
       "<Figure size 432x288 with 1 Axes>"
      ]
     },
     "metadata": {
      "needs_background": "light"
     },
     "output_type": "display_data"
    }
   ],
   "source": [
    "sns.barplot(data=new_df, x=\"region\", y=\"bmi\", hue=\"smoker\")\n",
    "# In all regions smoker and nonsmoker people have around 30 bmi point."
   ]
  },
  {
   "cell_type": "markdown",
   "id": "34f8f208",
   "metadata": {
    "papermill": {
     "duration": 0.018502,
     "end_time": "2022-08-19T13:04:33.428682",
     "exception": false,
     "start_time": "2022-08-19T13:04:33.410180",
     "status": "completed"
    },
    "tags": []
   },
   "source": [
    "## Preparing for the Machine Learning Model"
   ]
  },
  {
   "cell_type": "markdown",
   "id": "5d6ad292",
   "metadata": {
    "papermill": {
     "duration": 0.018221,
     "end_time": "2022-08-19T13:04:33.465301",
     "exception": false,
     "start_time": "2022-08-19T13:04:33.447080",
     "status": "completed"
    },
    "tags": []
   },
   "source": [
    "### Encoding"
   ]
  },
  {
   "cell_type": "code",
   "execution_count": 26,
   "id": "fc378633",
   "metadata": {
    "execution": {
     "iopub.execute_input": "2022-08-19T13:04:33.503348Z",
     "iopub.status.busy": "2022-08-19T13:04:33.503037Z",
     "iopub.status.idle": "2022-08-19T13:04:33.515549Z",
     "shell.execute_reply": "2022-08-19T13:04:33.514601Z"
    },
    "papermill": {
     "duration": 0.034154,
     "end_time": "2022-08-19T13:04:33.517750",
     "exception": false,
     "start_time": "2022-08-19T13:04:33.483596",
     "status": "completed"
    },
    "tags": []
   },
   "outputs": [
    {
     "data": {
      "text/html": [
       "<div>\n",
       "<style scoped>\n",
       "    .dataframe tbody tr th:only-of-type {\n",
       "        vertical-align: middle;\n",
       "    }\n",
       "\n",
       "    .dataframe tbody tr th {\n",
       "        vertical-align: top;\n",
       "    }\n",
       "\n",
       "    .dataframe thead th {\n",
       "        text-align: right;\n",
       "    }\n",
       "</style>\n",
       "<table border=\"1\" class=\"dataframe\">\n",
       "  <thead>\n",
       "    <tr style=\"text-align: right;\">\n",
       "      <th></th>\n",
       "      <th>age</th>\n",
       "      <th>sex</th>\n",
       "      <th>bmi</th>\n",
       "      <th>children</th>\n",
       "      <th>smoker</th>\n",
       "      <th>region</th>\n",
       "      <th>charges</th>\n",
       "    </tr>\n",
       "  </thead>\n",
       "  <tbody>\n",
       "    <tr>\n",
       "      <th>0</th>\n",
       "      <td>19</td>\n",
       "      <td>female</td>\n",
       "      <td>27.900</td>\n",
       "      <td>0</td>\n",
       "      <td>yes</td>\n",
       "      <td>southwest</td>\n",
       "      <td>16884.92400</td>\n",
       "    </tr>\n",
       "    <tr>\n",
       "      <th>1</th>\n",
       "      <td>18</td>\n",
       "      <td>male</td>\n",
       "      <td>33.770</td>\n",
       "      <td>1</td>\n",
       "      <td>no</td>\n",
       "      <td>southeast</td>\n",
       "      <td>1725.55230</td>\n",
       "    </tr>\n",
       "    <tr>\n",
       "      <th>2</th>\n",
       "      <td>28</td>\n",
       "      <td>male</td>\n",
       "      <td>33.000</td>\n",
       "      <td>3</td>\n",
       "      <td>no</td>\n",
       "      <td>southeast</td>\n",
       "      <td>4449.46200</td>\n",
       "    </tr>\n",
       "    <tr>\n",
       "      <th>3</th>\n",
       "      <td>33</td>\n",
       "      <td>male</td>\n",
       "      <td>22.705</td>\n",
       "      <td>0</td>\n",
       "      <td>no</td>\n",
       "      <td>northwest</td>\n",
       "      <td>21984.47061</td>\n",
       "    </tr>\n",
       "    <tr>\n",
       "      <th>4</th>\n",
       "      <td>32</td>\n",
       "      <td>male</td>\n",
       "      <td>28.880</td>\n",
       "      <td>0</td>\n",
       "      <td>no</td>\n",
       "      <td>northwest</td>\n",
       "      <td>3866.85520</td>\n",
       "    </tr>\n",
       "  </tbody>\n",
       "</table>\n",
       "</div>"
      ],
      "text/plain": [
       "   age     sex     bmi  children smoker     region      charges\n",
       "0   19  female  27.900         0    yes  southwest  16884.92400\n",
       "1   18    male  33.770         1     no  southeast   1725.55230\n",
       "2   28    male  33.000         3     no  southeast   4449.46200\n",
       "3   33    male  22.705         0     no  northwest  21984.47061\n",
       "4   32    male  28.880         0     no  northwest   3866.85520"
      ]
     },
     "execution_count": 26,
     "metadata": {},
     "output_type": "execute_result"
    }
   ],
   "source": [
    "new_df.head()\n",
    "# In \"sex\" and \"smoker\" features there are 2 independent values, so we can change them with label encoding."
   ]
  },
  {
   "cell_type": "code",
   "execution_count": 27,
   "id": "305e610e",
   "metadata": {
    "execution": {
     "iopub.execute_input": "2022-08-19T13:04:33.556336Z",
     "iopub.status.busy": "2022-08-19T13:04:33.556048Z",
     "iopub.status.idle": "2022-08-19T13:04:33.573948Z",
     "shell.execute_reply": "2022-08-19T13:04:33.572974Z"
    },
    "papermill": {
     "duration": 0.039426,
     "end_time": "2022-08-19T13:04:33.575948",
     "exception": false,
     "start_time": "2022-08-19T13:04:33.536522",
     "status": "completed"
    },
    "tags": []
   },
   "outputs": [
    {
     "data": {
      "text/html": [
       "<div>\n",
       "<style scoped>\n",
       "    .dataframe tbody tr th:only-of-type {\n",
       "        vertical-align: middle;\n",
       "    }\n",
       "\n",
       "    .dataframe tbody tr th {\n",
       "        vertical-align: top;\n",
       "    }\n",
       "\n",
       "    .dataframe thead th {\n",
       "        text-align: right;\n",
       "    }\n",
       "</style>\n",
       "<table border=\"1\" class=\"dataframe\">\n",
       "  <thead>\n",
       "    <tr style=\"text-align: right;\">\n",
       "      <th></th>\n",
       "      <th>age</th>\n",
       "      <th>sex</th>\n",
       "      <th>bmi</th>\n",
       "      <th>children</th>\n",
       "      <th>smoker</th>\n",
       "      <th>region</th>\n",
       "      <th>charges</th>\n",
       "      <th>new_sex</th>\n",
       "    </tr>\n",
       "  </thead>\n",
       "  <tbody>\n",
       "    <tr>\n",
       "      <th>0</th>\n",
       "      <td>19</td>\n",
       "      <td>female</td>\n",
       "      <td>27.900</td>\n",
       "      <td>0</td>\n",
       "      <td>yes</td>\n",
       "      <td>southwest</td>\n",
       "      <td>16884.92400</td>\n",
       "      <td>0</td>\n",
       "    </tr>\n",
       "    <tr>\n",
       "      <th>1</th>\n",
       "      <td>18</td>\n",
       "      <td>male</td>\n",
       "      <td>33.770</td>\n",
       "      <td>1</td>\n",
       "      <td>no</td>\n",
       "      <td>southeast</td>\n",
       "      <td>1725.55230</td>\n",
       "      <td>1</td>\n",
       "    </tr>\n",
       "    <tr>\n",
       "      <th>2</th>\n",
       "      <td>28</td>\n",
       "      <td>male</td>\n",
       "      <td>33.000</td>\n",
       "      <td>3</td>\n",
       "      <td>no</td>\n",
       "      <td>southeast</td>\n",
       "      <td>4449.46200</td>\n",
       "      <td>1</td>\n",
       "    </tr>\n",
       "    <tr>\n",
       "      <th>3</th>\n",
       "      <td>33</td>\n",
       "      <td>male</td>\n",
       "      <td>22.705</td>\n",
       "      <td>0</td>\n",
       "      <td>no</td>\n",
       "      <td>northwest</td>\n",
       "      <td>21984.47061</td>\n",
       "      <td>1</td>\n",
       "    </tr>\n",
       "    <tr>\n",
       "      <th>4</th>\n",
       "      <td>32</td>\n",
       "      <td>male</td>\n",
       "      <td>28.880</td>\n",
       "      <td>0</td>\n",
       "      <td>no</td>\n",
       "      <td>northwest</td>\n",
       "      <td>3866.85520</td>\n",
       "      <td>1</td>\n",
       "    </tr>\n",
       "    <tr>\n",
       "      <th>...</th>\n",
       "      <td>...</td>\n",
       "      <td>...</td>\n",
       "      <td>...</td>\n",
       "      <td>...</td>\n",
       "      <td>...</td>\n",
       "      <td>...</td>\n",
       "      <td>...</td>\n",
       "      <td>...</td>\n",
       "    </tr>\n",
       "    <tr>\n",
       "      <th>1332</th>\n",
       "      <td>23</td>\n",
       "      <td>male</td>\n",
       "      <td>47.315</td>\n",
       "      <td>1</td>\n",
       "      <td>no</td>\n",
       "      <td>southeast</td>\n",
       "      <td>2438.05520</td>\n",
       "      <td>1</td>\n",
       "    </tr>\n",
       "    <tr>\n",
       "      <th>1333</th>\n",
       "      <td>37</td>\n",
       "      <td>female</td>\n",
       "      <td>47.315</td>\n",
       "      <td>2</td>\n",
       "      <td>yes</td>\n",
       "      <td>southwest</td>\n",
       "      <td>46113.51100</td>\n",
       "      <td>0</td>\n",
       "    </tr>\n",
       "    <tr>\n",
       "      <th>1334</th>\n",
       "      <td>22</td>\n",
       "      <td>male</td>\n",
       "      <td>47.315</td>\n",
       "      <td>1</td>\n",
       "      <td>yes</td>\n",
       "      <td>southeast</td>\n",
       "      <td>44501.39820</td>\n",
       "      <td>0</td>\n",
       "    </tr>\n",
       "    <tr>\n",
       "      <th>1335</th>\n",
       "      <td>52</td>\n",
       "      <td>male</td>\n",
       "      <td>47.315</td>\n",
       "      <td>1</td>\n",
       "      <td>no</td>\n",
       "      <td>southeast</td>\n",
       "      <td>9748.91060</td>\n",
       "      <td>0</td>\n",
       "    </tr>\n",
       "    <tr>\n",
       "      <th>1336</th>\n",
       "      <td>18</td>\n",
       "      <td>male</td>\n",
       "      <td>47.315</td>\n",
       "      <td>0</td>\n",
       "      <td>no</td>\n",
       "      <td>southeast</td>\n",
       "      <td>1163.46270</td>\n",
       "      <td>0</td>\n",
       "    </tr>\n",
       "  </tbody>\n",
       "</table>\n",
       "<p>1337 rows × 8 columns</p>\n",
       "</div>"
      ],
      "text/plain": [
       "      age     sex     bmi  children smoker     region      charges  new_sex\n",
       "0      19  female  27.900         0    yes  southwest  16884.92400        0\n",
       "1      18    male  33.770         1     no  southeast   1725.55230        1\n",
       "2      28    male  33.000         3     no  southeast   4449.46200        1\n",
       "3      33    male  22.705         0     no  northwest  21984.47061        1\n",
       "4      32    male  28.880         0     no  northwest   3866.85520        1\n",
       "...   ...     ...     ...       ...    ...        ...          ...      ...\n",
       "1332   23    male  47.315         1     no  southeast   2438.05520        1\n",
       "1333   37  female  47.315         2    yes  southwest  46113.51100        0\n",
       "1334   22    male  47.315         1    yes  southeast  44501.39820        0\n",
       "1335   52    male  47.315         1     no  southeast   9748.91060        0\n",
       "1336   18    male  47.315         0     no  southeast   1163.46270        0\n",
       "\n",
       "[1337 rows x 8 columns]"
      ]
     },
     "execution_count": 27,
     "metadata": {},
     "output_type": "execute_result"
    }
   ],
   "source": [
    "# Label Encoding of \"sex\" feature.\n",
    "lbe = LabelEncoder()\n",
    "new_df[\"new_sex\"] = lbe.fit_transform(df['sex'])\n",
    "new_df"
   ]
  },
  {
   "cell_type": "code",
   "execution_count": 28,
   "id": "68ed12e3",
   "metadata": {
    "execution": {
     "iopub.execute_input": "2022-08-19T13:04:33.615474Z",
     "iopub.status.busy": "2022-08-19T13:04:33.614697Z",
     "iopub.status.idle": "2022-08-19T13:04:33.632580Z",
     "shell.execute_reply": "2022-08-19T13:04:33.631581Z"
    },
    "papermill": {
     "duration": 0.03949,
     "end_time": "2022-08-19T13:04:33.634528",
     "exception": false,
     "start_time": "2022-08-19T13:04:33.595038",
     "status": "completed"
    },
    "tags": []
   },
   "outputs": [
    {
     "data": {
      "text/html": [
       "<div>\n",
       "<style scoped>\n",
       "    .dataframe tbody tr th:only-of-type {\n",
       "        vertical-align: middle;\n",
       "    }\n",
       "\n",
       "    .dataframe tbody tr th {\n",
       "        vertical-align: top;\n",
       "    }\n",
       "\n",
       "    .dataframe thead th {\n",
       "        text-align: right;\n",
       "    }\n",
       "</style>\n",
       "<table border=\"1\" class=\"dataframe\">\n",
       "  <thead>\n",
       "    <tr style=\"text-align: right;\">\n",
       "      <th></th>\n",
       "      <th>age</th>\n",
       "      <th>sex</th>\n",
       "      <th>bmi</th>\n",
       "      <th>children</th>\n",
       "      <th>smoker</th>\n",
       "      <th>region</th>\n",
       "      <th>charges</th>\n",
       "      <th>new_sex</th>\n",
       "      <th>new_smoker</th>\n",
       "    </tr>\n",
       "  </thead>\n",
       "  <tbody>\n",
       "    <tr>\n",
       "      <th>0</th>\n",
       "      <td>19</td>\n",
       "      <td>female</td>\n",
       "      <td>27.900</td>\n",
       "      <td>0</td>\n",
       "      <td>yes</td>\n",
       "      <td>southwest</td>\n",
       "      <td>16884.92400</td>\n",
       "      <td>0</td>\n",
       "      <td>1</td>\n",
       "    </tr>\n",
       "    <tr>\n",
       "      <th>1</th>\n",
       "      <td>18</td>\n",
       "      <td>male</td>\n",
       "      <td>33.770</td>\n",
       "      <td>1</td>\n",
       "      <td>no</td>\n",
       "      <td>southeast</td>\n",
       "      <td>1725.55230</td>\n",
       "      <td>1</td>\n",
       "      <td>0</td>\n",
       "    </tr>\n",
       "    <tr>\n",
       "      <th>2</th>\n",
       "      <td>28</td>\n",
       "      <td>male</td>\n",
       "      <td>33.000</td>\n",
       "      <td>3</td>\n",
       "      <td>no</td>\n",
       "      <td>southeast</td>\n",
       "      <td>4449.46200</td>\n",
       "      <td>1</td>\n",
       "      <td>0</td>\n",
       "    </tr>\n",
       "    <tr>\n",
       "      <th>3</th>\n",
       "      <td>33</td>\n",
       "      <td>male</td>\n",
       "      <td>22.705</td>\n",
       "      <td>0</td>\n",
       "      <td>no</td>\n",
       "      <td>northwest</td>\n",
       "      <td>21984.47061</td>\n",
       "      <td>1</td>\n",
       "      <td>0</td>\n",
       "    </tr>\n",
       "    <tr>\n",
       "      <th>4</th>\n",
       "      <td>32</td>\n",
       "      <td>male</td>\n",
       "      <td>28.880</td>\n",
       "      <td>0</td>\n",
       "      <td>no</td>\n",
       "      <td>northwest</td>\n",
       "      <td>3866.85520</td>\n",
       "      <td>1</td>\n",
       "      <td>0</td>\n",
       "    </tr>\n",
       "    <tr>\n",
       "      <th>...</th>\n",
       "      <td>...</td>\n",
       "      <td>...</td>\n",
       "      <td>...</td>\n",
       "      <td>...</td>\n",
       "      <td>...</td>\n",
       "      <td>...</td>\n",
       "      <td>...</td>\n",
       "      <td>...</td>\n",
       "      <td>...</td>\n",
       "    </tr>\n",
       "    <tr>\n",
       "      <th>1332</th>\n",
       "      <td>23</td>\n",
       "      <td>male</td>\n",
       "      <td>47.315</td>\n",
       "      <td>1</td>\n",
       "      <td>no</td>\n",
       "      <td>southeast</td>\n",
       "      <td>2438.05520</td>\n",
       "      <td>1</td>\n",
       "      <td>0</td>\n",
       "    </tr>\n",
       "    <tr>\n",
       "      <th>1333</th>\n",
       "      <td>37</td>\n",
       "      <td>female</td>\n",
       "      <td>47.315</td>\n",
       "      <td>2</td>\n",
       "      <td>yes</td>\n",
       "      <td>southwest</td>\n",
       "      <td>46113.51100</td>\n",
       "      <td>0</td>\n",
       "      <td>0</td>\n",
       "    </tr>\n",
       "    <tr>\n",
       "      <th>1334</th>\n",
       "      <td>22</td>\n",
       "      <td>male</td>\n",
       "      <td>47.315</td>\n",
       "      <td>1</td>\n",
       "      <td>yes</td>\n",
       "      <td>southeast</td>\n",
       "      <td>44501.39820</td>\n",
       "      <td>0</td>\n",
       "      <td>0</td>\n",
       "    </tr>\n",
       "    <tr>\n",
       "      <th>1335</th>\n",
       "      <td>52</td>\n",
       "      <td>male</td>\n",
       "      <td>47.315</td>\n",
       "      <td>1</td>\n",
       "      <td>no</td>\n",
       "      <td>southeast</td>\n",
       "      <td>9748.91060</td>\n",
       "      <td>0</td>\n",
       "      <td>0</td>\n",
       "    </tr>\n",
       "    <tr>\n",
       "      <th>1336</th>\n",
       "      <td>18</td>\n",
       "      <td>male</td>\n",
       "      <td>47.315</td>\n",
       "      <td>0</td>\n",
       "      <td>no</td>\n",
       "      <td>southeast</td>\n",
       "      <td>1163.46270</td>\n",
       "      <td>0</td>\n",
       "      <td>1</td>\n",
       "    </tr>\n",
       "  </tbody>\n",
       "</table>\n",
       "<p>1337 rows × 9 columns</p>\n",
       "</div>"
      ],
      "text/plain": [
       "      age     sex     bmi  children smoker     region      charges  new_sex  \\\n",
       "0      19  female  27.900         0    yes  southwest  16884.92400        0   \n",
       "1      18    male  33.770         1     no  southeast   1725.55230        1   \n",
       "2      28    male  33.000         3     no  southeast   4449.46200        1   \n",
       "3      33    male  22.705         0     no  northwest  21984.47061        1   \n",
       "4      32    male  28.880         0     no  northwest   3866.85520        1   \n",
       "...   ...     ...     ...       ...    ...        ...          ...      ...   \n",
       "1332   23    male  47.315         1     no  southeast   2438.05520        1   \n",
       "1333   37  female  47.315         2    yes  southwest  46113.51100        0   \n",
       "1334   22    male  47.315         1    yes  southeast  44501.39820        0   \n",
       "1335   52    male  47.315         1     no  southeast   9748.91060        0   \n",
       "1336   18    male  47.315         0     no  southeast   1163.46270        0   \n",
       "\n",
       "      new_smoker  \n",
       "0              1  \n",
       "1              0  \n",
       "2              0  \n",
       "3              0  \n",
       "4              0  \n",
       "...          ...  \n",
       "1332           0  \n",
       "1333           0  \n",
       "1334           0  \n",
       "1335           0  \n",
       "1336           1  \n",
       "\n",
       "[1337 rows x 9 columns]"
      ]
     },
     "execution_count": 28,
     "metadata": {},
     "output_type": "execute_result"
    }
   ],
   "source": [
    "# Label Encoding of \"smoker\" feature.\n",
    "lbe = LabelEncoder()\n",
    "new_df[\"new_smoker\"] = lbe.fit_transform(df['smoker'])\n",
    "new_df"
   ]
  },
  {
   "cell_type": "code",
   "execution_count": 29,
   "id": "04ff2623",
   "metadata": {
    "execution": {
     "iopub.execute_input": "2022-08-19T13:04:33.676098Z",
     "iopub.status.busy": "2022-08-19T13:04:33.675323Z",
     "iopub.status.idle": "2022-08-19T13:04:33.680929Z",
     "shell.execute_reply": "2022-08-19T13:04:33.680118Z"
    },
    "papermill": {
     "duration": 0.028611,
     "end_time": "2022-08-19T13:04:33.682884",
     "exception": false,
     "start_time": "2022-08-19T13:04:33.654273",
     "status": "completed"
    },
    "tags": []
   },
   "outputs": [],
   "source": [
    "# Let's delete the old categorical values of \"sex\" and \"smoker\" features.\n",
    "new_df.drop(columns = [\"sex\", \"smoker\"], axis=1, inplace=True)"
   ]
  },
  {
   "cell_type": "code",
   "execution_count": 30,
   "id": "ff47a48f",
   "metadata": {
    "execution": {
     "iopub.execute_input": "2022-08-19T13:04:33.722503Z",
     "iopub.status.busy": "2022-08-19T13:04:33.722226Z",
     "iopub.status.idle": "2022-08-19T13:04:33.740837Z",
     "shell.execute_reply": "2022-08-19T13:04:33.739870Z"
    },
    "papermill": {
     "duration": 0.040753,
     "end_time": "2022-08-19T13:04:33.742824",
     "exception": false,
     "start_time": "2022-08-19T13:04:33.702071",
     "status": "completed"
    },
    "tags": []
   },
   "outputs": [
    {
     "data": {
      "text/html": [
       "<div>\n",
       "<style scoped>\n",
       "    .dataframe tbody tr th:only-of-type {\n",
       "        vertical-align: middle;\n",
       "    }\n",
       "\n",
       "    .dataframe tbody tr th {\n",
       "        vertical-align: top;\n",
       "    }\n",
       "\n",
       "    .dataframe thead th {\n",
       "        text-align: right;\n",
       "    }\n",
       "</style>\n",
       "<table border=\"1\" class=\"dataframe\">\n",
       "  <thead>\n",
       "    <tr style=\"text-align: right;\">\n",
       "      <th></th>\n",
       "      <th>age</th>\n",
       "      <th>bmi</th>\n",
       "      <th>children</th>\n",
       "      <th>charges</th>\n",
       "      <th>new_sex</th>\n",
       "      <th>new_smoker</th>\n",
       "      <th>region_northeast</th>\n",
       "      <th>region_northwest</th>\n",
       "      <th>region_southeast</th>\n",
       "      <th>region_southwest</th>\n",
       "    </tr>\n",
       "  </thead>\n",
       "  <tbody>\n",
       "    <tr>\n",
       "      <th>0</th>\n",
       "      <td>19</td>\n",
       "      <td>27.900</td>\n",
       "      <td>0</td>\n",
       "      <td>16884.92400</td>\n",
       "      <td>0</td>\n",
       "      <td>1</td>\n",
       "      <td>0</td>\n",
       "      <td>0</td>\n",
       "      <td>0</td>\n",
       "      <td>1</td>\n",
       "    </tr>\n",
       "    <tr>\n",
       "      <th>1</th>\n",
       "      <td>18</td>\n",
       "      <td>33.770</td>\n",
       "      <td>1</td>\n",
       "      <td>1725.55230</td>\n",
       "      <td>1</td>\n",
       "      <td>0</td>\n",
       "      <td>0</td>\n",
       "      <td>0</td>\n",
       "      <td>1</td>\n",
       "      <td>0</td>\n",
       "    </tr>\n",
       "    <tr>\n",
       "      <th>2</th>\n",
       "      <td>28</td>\n",
       "      <td>33.000</td>\n",
       "      <td>3</td>\n",
       "      <td>4449.46200</td>\n",
       "      <td>1</td>\n",
       "      <td>0</td>\n",
       "      <td>0</td>\n",
       "      <td>0</td>\n",
       "      <td>1</td>\n",
       "      <td>0</td>\n",
       "    </tr>\n",
       "    <tr>\n",
       "      <th>3</th>\n",
       "      <td>33</td>\n",
       "      <td>22.705</td>\n",
       "      <td>0</td>\n",
       "      <td>21984.47061</td>\n",
       "      <td>1</td>\n",
       "      <td>0</td>\n",
       "      <td>0</td>\n",
       "      <td>1</td>\n",
       "      <td>0</td>\n",
       "      <td>0</td>\n",
       "    </tr>\n",
       "    <tr>\n",
       "      <th>4</th>\n",
       "      <td>32</td>\n",
       "      <td>28.880</td>\n",
       "      <td>0</td>\n",
       "      <td>3866.85520</td>\n",
       "      <td>1</td>\n",
       "      <td>0</td>\n",
       "      <td>0</td>\n",
       "      <td>1</td>\n",
       "      <td>0</td>\n",
       "      <td>0</td>\n",
       "    </tr>\n",
       "    <tr>\n",
       "      <th>...</th>\n",
       "      <td>...</td>\n",
       "      <td>...</td>\n",
       "      <td>...</td>\n",
       "      <td>...</td>\n",
       "      <td>...</td>\n",
       "      <td>...</td>\n",
       "      <td>...</td>\n",
       "      <td>...</td>\n",
       "      <td>...</td>\n",
       "      <td>...</td>\n",
       "    </tr>\n",
       "    <tr>\n",
       "      <th>1332</th>\n",
       "      <td>23</td>\n",
       "      <td>47.315</td>\n",
       "      <td>1</td>\n",
       "      <td>2438.05520</td>\n",
       "      <td>1</td>\n",
       "      <td>0</td>\n",
       "      <td>0</td>\n",
       "      <td>0</td>\n",
       "      <td>1</td>\n",
       "      <td>0</td>\n",
       "    </tr>\n",
       "    <tr>\n",
       "      <th>1333</th>\n",
       "      <td>37</td>\n",
       "      <td>47.315</td>\n",
       "      <td>2</td>\n",
       "      <td>46113.51100</td>\n",
       "      <td>0</td>\n",
       "      <td>0</td>\n",
       "      <td>0</td>\n",
       "      <td>0</td>\n",
       "      <td>0</td>\n",
       "      <td>1</td>\n",
       "    </tr>\n",
       "    <tr>\n",
       "      <th>1334</th>\n",
       "      <td>22</td>\n",
       "      <td>47.315</td>\n",
       "      <td>1</td>\n",
       "      <td>44501.39820</td>\n",
       "      <td>0</td>\n",
       "      <td>0</td>\n",
       "      <td>0</td>\n",
       "      <td>0</td>\n",
       "      <td>1</td>\n",
       "      <td>0</td>\n",
       "    </tr>\n",
       "    <tr>\n",
       "      <th>1335</th>\n",
       "      <td>52</td>\n",
       "      <td>47.315</td>\n",
       "      <td>1</td>\n",
       "      <td>9748.91060</td>\n",
       "      <td>0</td>\n",
       "      <td>0</td>\n",
       "      <td>0</td>\n",
       "      <td>0</td>\n",
       "      <td>1</td>\n",
       "      <td>0</td>\n",
       "    </tr>\n",
       "    <tr>\n",
       "      <th>1336</th>\n",
       "      <td>18</td>\n",
       "      <td>47.315</td>\n",
       "      <td>0</td>\n",
       "      <td>1163.46270</td>\n",
       "      <td>0</td>\n",
       "      <td>1</td>\n",
       "      <td>0</td>\n",
       "      <td>0</td>\n",
       "      <td>1</td>\n",
       "      <td>0</td>\n",
       "    </tr>\n",
       "  </tbody>\n",
       "</table>\n",
       "<p>1337 rows × 10 columns</p>\n",
       "</div>"
      ],
      "text/plain": [
       "      age     bmi  children      charges  new_sex  new_smoker  \\\n",
       "0      19  27.900         0  16884.92400        0           1   \n",
       "1      18  33.770         1   1725.55230        1           0   \n",
       "2      28  33.000         3   4449.46200        1           0   \n",
       "3      33  22.705         0  21984.47061        1           0   \n",
       "4      32  28.880         0   3866.85520        1           0   \n",
       "...   ...     ...       ...          ...      ...         ...   \n",
       "1332   23  47.315         1   2438.05520        1           0   \n",
       "1333   37  47.315         2  46113.51100        0           0   \n",
       "1334   22  47.315         1  44501.39820        0           0   \n",
       "1335   52  47.315         1   9748.91060        0           0   \n",
       "1336   18  47.315         0   1163.46270        0           1   \n",
       "\n",
       "      region_northeast  region_northwest  region_southeast  region_southwest  \n",
       "0                    0                 0                 0                 1  \n",
       "1                    0                 0                 1                 0  \n",
       "2                    0                 0                 1                 0  \n",
       "3                    0                 1                 0                 0  \n",
       "4                    0                 1                 0                 0  \n",
       "...                ...               ...               ...               ...  \n",
       "1332                 0                 0                 1                 0  \n",
       "1333                 0                 0                 0                 1  \n",
       "1334                 0                 0                 1                 0  \n",
       "1335                 0                 0                 1                 0  \n",
       "1336                 0                 0                 1                 0  \n",
       "\n",
       "[1337 rows x 10 columns]"
      ]
     },
     "execution_count": 30,
     "metadata": {},
     "output_type": "execute_result"
    }
   ],
   "source": [
    "# For region feature, we have 4 categorical variables, so we need to change them into integers with one-hot encoding.\n",
    "last_df = pd.get_dummies(new_df, columns = [\"region\"], prefix = [\"region\"])\n",
    "last_df"
   ]
  },
  {
   "cell_type": "markdown",
   "id": "8bf028e1",
   "metadata": {
    "papermill": {
     "duration": 0.020465,
     "end_time": "2022-08-19T13:04:33.783323",
     "exception": false,
     "start_time": "2022-08-19T13:04:33.762858",
     "status": "completed"
    },
    "tags": []
   },
   "source": [
    "### Splitting of DataFrame and Normalization"
   ]
  },
  {
   "cell_type": "code",
   "execution_count": 31,
   "id": "b6830729",
   "metadata": {
    "execution": {
     "iopub.execute_input": "2022-08-19T13:04:33.825701Z",
     "iopub.status.busy": "2022-08-19T13:04:33.824789Z",
     "iopub.status.idle": "2022-08-19T13:04:33.832969Z",
     "shell.execute_reply": "2022-08-19T13:04:33.832045Z"
    },
    "papermill": {
     "duration": 0.032115,
     "end_time": "2022-08-19T13:04:33.835072",
     "exception": false,
     "start_time": "2022-08-19T13:04:33.802957",
     "status": "completed"
    },
    "tags": []
   },
   "outputs": [
    {
     "data": {
      "text/plain": [
       "['age',\n",
       " 'bmi',\n",
       " 'children',\n",
       " 'charges',\n",
       " 'new_sex',\n",
       " 'new_smoker',\n",
       " 'region_northeast',\n",
       " 'region_northwest',\n",
       " 'region_southeast',\n",
       " 'region_southwest']"
      ]
     },
     "execution_count": 31,
     "metadata": {},
     "output_type": "execute_result"
    }
   ],
   "source": [
    "# We need to columns names when converting normalized array to dataframe.\n",
    "names = []\n",
    "for i in range(10):\n",
    "    columns_ = last_df.columns[i]\n",
    "    names.append(columns_)\n",
    "names"
   ]
  },
  {
   "cell_type": "code",
   "execution_count": 32,
   "id": "2022b5bf",
   "metadata": {
    "execution": {
     "iopub.execute_input": "2022-08-19T13:04:33.876264Z",
     "iopub.status.busy": "2022-08-19T13:04:33.875940Z",
     "iopub.status.idle": "2022-08-19T13:04:33.886070Z",
     "shell.execute_reply": "2022-08-19T13:04:33.885243Z"
    },
    "papermill": {
     "duration": 0.032871,
     "end_time": "2022-08-19T13:04:33.888161",
     "exception": false,
     "start_time": "2022-08-19T13:04:33.855290",
     "status": "completed"
    },
    "tags": []
   },
   "outputs": [],
   "source": [
    "last_df = preprocessing.normalize(last_df)\n",
    "last_df = pd.DataFrame(last_df, columns=names)\n",
    "X = last_df.drop(\"charges\",axis=1)\n",
    "y = last_df['charges']\n",
    "X_train, X_test, y_train, y_test = train_test_split(X, y, test_size = 0.25, random_state = 42)"
   ]
  },
  {
   "cell_type": "code",
   "execution_count": 33,
   "id": "979bdef1",
   "metadata": {
    "execution": {
     "iopub.execute_input": "2022-08-19T13:04:33.929823Z",
     "iopub.status.busy": "2022-08-19T13:04:33.929545Z",
     "iopub.status.idle": "2022-08-19T13:04:33.943300Z",
     "shell.execute_reply": "2022-08-19T13:04:33.942419Z"
    },
    "papermill": {
     "duration": 0.036884,
     "end_time": "2022-08-19T13:04:33.945204",
     "exception": false,
     "start_time": "2022-08-19T13:04:33.908320",
     "status": "completed"
    },
    "tags": []
   },
   "outputs": [
    {
     "data": {
      "text/html": [
       "<div>\n",
       "<style scoped>\n",
       "    .dataframe tbody tr th:only-of-type {\n",
       "        vertical-align: middle;\n",
       "    }\n",
       "\n",
       "    .dataframe tbody tr th {\n",
       "        vertical-align: top;\n",
       "    }\n",
       "\n",
       "    .dataframe thead th {\n",
       "        text-align: right;\n",
       "    }\n",
       "</style>\n",
       "<table border=\"1\" class=\"dataframe\">\n",
       "  <thead>\n",
       "    <tr style=\"text-align: right;\">\n",
       "      <th></th>\n",
       "      <th>age</th>\n",
       "      <th>bmi</th>\n",
       "      <th>children</th>\n",
       "      <th>new_sex</th>\n",
       "      <th>new_smoker</th>\n",
       "      <th>region_northeast</th>\n",
       "      <th>region_northwest</th>\n",
       "      <th>region_southeast</th>\n",
       "      <th>region_southwest</th>\n",
       "    </tr>\n",
       "  </thead>\n",
       "  <tbody>\n",
       "    <tr>\n",
       "      <th>762</th>\n",
       "      <td>0.005957</td>\n",
       "      <td>0.004113</td>\n",
       "      <td>0.000142</td>\n",
       "      <td>0.000142</td>\n",
       "      <td>0.0</td>\n",
       "      <td>0.000000</td>\n",
       "      <td>0.00000</td>\n",
       "      <td>0.000000</td>\n",
       "      <td>0.000142</td>\n",
       "    </tr>\n",
       "    <tr>\n",
       "      <th>1078</th>\n",
       "      <td>0.005094</td>\n",
       "      <td>0.002684</td>\n",
       "      <td>0.000000</td>\n",
       "      <td>0.000093</td>\n",
       "      <td>0.0</td>\n",
       "      <td>0.000093</td>\n",
       "      <td>0.00000</td>\n",
       "      <td>0.000000</td>\n",
       "      <td>0.000000</td>\n",
       "    </tr>\n",
       "    <tr>\n",
       "      <th>178</th>\n",
       "      <td>0.004802</td>\n",
       "      <td>0.003883</td>\n",
       "      <td>0.000351</td>\n",
       "      <td>0.000000</td>\n",
       "      <td>0.0</td>\n",
       "      <td>0.000117</td>\n",
       "      <td>0.00000</td>\n",
       "      <td>0.000000</td>\n",
       "      <td>0.000000</td>\n",
       "    </tr>\n",
       "    <tr>\n",
       "      <th>287</th>\n",
       "      <td>0.002001</td>\n",
       "      <td>0.001016</td>\n",
       "      <td>0.000115</td>\n",
       "      <td>0.000000</td>\n",
       "      <td>0.0</td>\n",
       "      <td>0.000000</td>\n",
       "      <td>0.00000</td>\n",
       "      <td>0.000038</td>\n",
       "      <td>0.000000</td>\n",
       "    </tr>\n",
       "    <tr>\n",
       "      <th>1289</th>\n",
       "      <td>0.006272</td>\n",
       "      <td>0.005218</td>\n",
       "      <td>0.000380</td>\n",
       "      <td>0.000000</td>\n",
       "      <td>0.0</td>\n",
       "      <td>0.000000</td>\n",
       "      <td>0.00019</td>\n",
       "      <td>0.000000</td>\n",
       "      <td>0.000000</td>\n",
       "    </tr>\n",
       "  </tbody>\n",
       "</table>\n",
       "</div>"
      ],
      "text/plain": [
       "           age       bmi  children   new_sex  new_smoker  region_northeast  \\\n",
       "762   0.005957  0.004113  0.000142  0.000142         0.0          0.000000   \n",
       "1078  0.005094  0.002684  0.000000  0.000093         0.0          0.000093   \n",
       "178   0.004802  0.003883  0.000351  0.000000         0.0          0.000117   \n",
       "287   0.002001  0.001016  0.000115  0.000000         0.0          0.000000   \n",
       "1289  0.006272  0.005218  0.000380  0.000000         0.0          0.000000   \n",
       "\n",
       "      region_northwest  region_southeast  region_southwest  \n",
       "762            0.00000          0.000000          0.000142  \n",
       "1078           0.00000          0.000000          0.000000  \n",
       "178            0.00000          0.000000          0.000000  \n",
       "287            0.00000          0.000038          0.000000  \n",
       "1289           0.00019          0.000000          0.000000  "
      ]
     },
     "execution_count": 33,
     "metadata": {},
     "output_type": "execute_result"
    }
   ],
   "source": [
    "X_train.head()"
   ]
  },
  {
   "cell_type": "markdown",
   "id": "18aac198",
   "metadata": {
    "papermill": {
     "duration": 0.019767,
     "end_time": "2022-08-19T13:04:33.985062",
     "exception": false,
     "start_time": "2022-08-19T13:04:33.965295",
     "status": "completed"
    },
    "tags": []
   },
   "source": [
    "## Model Fitting"
   ]
  },
  {
   "cell_type": "code",
   "execution_count": 34,
   "id": "0efbd8ef",
   "metadata": {
    "execution": {
     "iopub.execute_input": "2022-08-19T13:04:34.027568Z",
     "iopub.status.busy": "2022-08-19T13:04:34.026745Z",
     "iopub.status.idle": "2022-08-19T13:04:46.466343Z",
     "shell.execute_reply": "2022-08-19T13:04:46.464307Z"
    },
    "papermill": {
     "duration": 12.464168,
     "end_time": "2022-08-19T13:04:46.469377",
     "exception": false,
     "start_time": "2022-08-19T13:04:34.005209",
     "status": "completed"
    },
    "tags": []
   },
   "outputs": [
    {
     "name": "stdout",
     "output_type": "stream",
     "text": [
      "For LinearRegression() mse is: 4.175397104382372e-10\n",
      "For Ridge() mse is: 6.353296373877664e-09\n",
      "For Lasso() mse is: 6.716141030938876e-09\n",
      "For KNeighborsRegressor() mse is: 7.894135968944229e-11\n",
      "For SVR() mse is: 1.3840362601230082e-07\n",
      "For RandomForestRegressor() mse is: 4.035042358756965e-11\n",
      "For LGBMRegressor() mse is: 4.0749053888537664e-10\n",
      "For DecisionTreeRegressor() mse is: 4.450045719822265e-11\n",
      "For GradientBoostingRegressor() mse is: 1.6077907204141097e-11\n"
     ]
    }
   ],
   "source": [
    "linear_model = LinearRegression().fit(X_train,y_train)\n",
    "ridge_model = Ridge().fit(X_train, y_train)\n",
    "lasso_model = Lasso().fit(X_train,y_train)\n",
    "knn_model = KNeighborsRegressor().fit(X_train, y_train)\n",
    "svr_model = SVR().fit(X_train, y_train)\n",
    "rf_model = RandomForestRegressor().fit(X_train,y_train)\n",
    "lgbm_model = LGBMRegressor().fit(X_train,y_train)\n",
    "cart_model = DecisionTreeRegressor().fit(X_train,y_train)\n",
    "gbm_model = GradientBoostingRegressor().fit(X_train, y_train)\n",
    "\n",
    "model_list = [linear_model, ridge_model,lasso_model,knn_model,svr_model,rf_model,lgbm_model,cart_model,gbm_model]\n",
    "rmse_list = []\n",
    "\n",
    "for i in model_list:\n",
    "    cross_val_score(i, X_train, y_train, cv = 10, scoring= \"neg_mean_squared_error\")\n",
    "    mse = np.mean(-cross_val_score(i, X_train, y_train, cv = 10, scoring= \"neg_mean_squared_error\"))\n",
    "    print(f\"For {i} mse is: {mse}\")\n"
   ]
  },
  {
   "cell_type": "markdown",
   "id": "bfce38aa",
   "metadata": {
    "papermill": {
     "duration": 0.020271,
     "end_time": "2022-08-19T13:04:46.510738",
     "exception": false,
     "start_time": "2022-08-19T13:04:46.490467",
     "status": "completed"
    },
    "tags": []
   },
   "source": [
    "## Model Tunning"
   ]
  },
  {
   "cell_type": "markdown",
   "id": "5e865b8c",
   "metadata": {
    "execution": {
     "iopub.execute_input": "2022-08-19T11:55:45.287981Z",
     "iopub.status.busy": "2022-08-19T11:55:45.287629Z",
     "iopub.status.idle": "2022-08-19T11:55:45.295602Z",
     "shell.execute_reply": "2022-08-19T11:55:45.294292Z",
     "shell.execute_reply.started": "2022-08-19T11:55:45.287949Z"
    },
    "papermill": {
     "duration": 0.019776,
     "end_time": "2022-08-19T13:04:46.550629",
     "exception": false,
     "start_time": "2022-08-19T13:04:46.530853",
     "status": "completed"
    },
    "tags": []
   },
   "source": [
    "***After the model fitting and cross validation, I choosed SVR model. \n",
    "Now, it is time to model tunning with hyperparemeters and GridSearchCV***"
   ]
  },
  {
   "cell_type": "code",
   "execution_count": 35,
   "id": "a80d37c0",
   "metadata": {
    "execution": {
     "iopub.execute_input": "2022-08-19T13:04:46.592160Z",
     "iopub.status.busy": "2022-08-19T13:04:46.591825Z",
     "iopub.status.idle": "2022-08-19T13:04:48.523312Z",
     "shell.execute_reply": "2022-08-19T13:04:48.522288Z"
    },
    "papermill": {
     "duration": 1.955204,
     "end_time": "2022-08-19T13:04:48.525749",
     "exception": false,
     "start_time": "2022-08-19T13:04:46.570545",
     "status": "completed"
    },
    "tags": []
   },
   "outputs": [],
   "source": [
    "random_params = np.random.random_sample(size = 20)\n",
    "svr_params = {\"C\": random_params}\n",
    "svr_cv_model = GridSearchCV(svr_model, svr_params, cv=5, n_jobs = -1).fit(X_train, y_train)"
   ]
  },
  {
   "cell_type": "code",
   "execution_count": 36,
   "id": "24cb3b62",
   "metadata": {
    "execution": {
     "iopub.execute_input": "2022-08-19T13:04:48.568461Z",
     "iopub.status.busy": "2022-08-19T13:04:48.567921Z",
     "iopub.status.idle": "2022-08-19T13:04:48.574229Z",
     "shell.execute_reply": "2022-08-19T13:04:48.573350Z"
    },
    "papermill": {
     "duration": 0.029556,
     "end_time": "2022-08-19T13:04:48.576080",
     "exception": false,
     "start_time": "2022-08-19T13:04:48.546524",
     "status": "completed"
    },
    "tags": []
   },
   "outputs": [
    {
     "data": {
      "text/plain": [
       "{'C': 0.7925956879025888}"
      ]
     },
     "execution_count": 36,
     "metadata": {},
     "output_type": "execute_result"
    }
   ],
   "source": [
    "# Best \"C\" value\n",
    "svr_cv_model.best_params_"
   ]
  },
  {
   "cell_type": "code",
   "execution_count": 37,
   "id": "87354b8e",
   "metadata": {
    "execution": {
     "iopub.execute_input": "2022-08-19T13:04:48.620668Z",
     "iopub.status.busy": "2022-08-19T13:04:48.620379Z",
     "iopub.status.idle": "2022-08-19T13:04:48.631666Z",
     "shell.execute_reply": "2022-08-19T13:04:48.630718Z"
    },
    "papermill": {
     "duration": 0.03744,
     "end_time": "2022-08-19T13:04:48.633815",
     "exception": false,
     "start_time": "2022-08-19T13:04:48.596375",
     "status": "completed"
    },
    "tags": []
   },
   "outputs": [
    {
     "data": {
      "text/plain": [
       "1.4281997800643907e-07"
      ]
     },
     "execution_count": 37,
     "metadata": {},
     "output_type": "execute_result"
    }
   ],
   "source": [
    "svr_tuned = SVR(C= svr_cv_model.best_params_[\"C\"]).fit(X_train,y_train)\n",
    "y_pred = svr_tuned.predict(X_test)\n",
    "mean_squared_error(y_test,y_pred)\n",
    "# After the all operations, lastly \"mse\" is 1.428."
   ]
  },
  {
   "cell_type": "code",
   "execution_count": null,
   "id": "f9046efc",
   "metadata": {
    "papermill": {
     "duration": 0.02005,
     "end_time": "2022-08-19T13:04:48.674273",
     "exception": false,
     "start_time": "2022-08-19T13:04:48.654223",
     "status": "completed"
    },
    "tags": []
   },
   "outputs": [],
   "source": []
  }
 ],
 "metadata": {
  "kernelspec": {
   "display_name": "Python 3",
   "language": "python",
   "name": "python3"
  },
  "language_info": {
   "codemirror_mode": {
    "name": "ipython",
    "version": 3
   },
   "file_extension": ".py",
   "mimetype": "text/x-python",
   "name": "python",
   "nbconvert_exporter": "python",
   "pygments_lexer": "ipython3",
   "version": "3.7.12"
  },
  "papermill": {
   "default_parameters": {},
   "duration": 34.848903,
   "end_time": "2022-08-19T13:04:51.313859",
   "environment_variables": {},
   "exception": null,
   "input_path": "__notebook__.ipynb",
   "output_path": "__notebook__.ipynb",
   "parameters": {},
   "start_time": "2022-08-19T13:04:16.464956",
   "version": "2.3.4"
  }
 },
 "nbformat": 4,
 "nbformat_minor": 5
}
